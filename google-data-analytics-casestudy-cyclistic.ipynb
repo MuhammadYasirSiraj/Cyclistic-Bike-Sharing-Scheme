{
 "cells": [
  {
   "cell_type": "markdown",
   "id": "5d5dfbd1",
   "metadata": {
    "execution": {
     "iopub.execute_input": "2023-04-16T10:26:01.778898Z",
     "iopub.status.busy": "2023-04-16T10:26:01.778460Z",
     "iopub.status.idle": "2023-04-16T10:26:01.794100Z",
     "shell.execute_reply": "2023-04-16T10:26:01.792783Z",
     "shell.execute_reply.started": "2023-04-16T10:26:01.778856Z"
    },
    "papermill": {
     "duration": 0.024272,
     "end_time": "2023-05-11T19:58:39.551381",
     "exception": false,
     "start_time": "2023-05-11T19:58:39.527109",
     "status": "completed"
    },
    "tags": []
   },
   "source": [
    "1  **Introduction**\n",
    "\n",
    "This case study is taken as Capstone Project for Google Data Analytics Professional Certificate. \n",
    "\n",
    "Cyclistic is a bicycle-share company based in Chicago, USA. They started a startup in 2016 to provide cycles on rent for people ease and daily use , now it has become a company. Since then, the startup has grown to a fleet of 5,800icycles that are geotracked and locked into a network of 600tations across Chicago. The bikes can be unlocked from one station and returned to any other station in the system anytime.\n",
    "\n",
    "In this case study I am working as a junior data analyst in the marketing analyst team at Cyclistic.\n",
    "\n",
    "Cyclistic sets itself apart by also offering reclining bikes, hand tricycles, and cargo bikes, making bike-share more inclusive to people with disabilities and riders who can’t use a standard two-wheeled bike. The majority of riders opt for traditional bikes; about 8% of riders use the assistive options. Cyclistic users are more likely to ride for leisure, but about 30% use them to commute to work each day\n",
    "\n",
    "2 **Business Task**\n",
    "\n",
    "Cyclistic’s marketing strategy was focusing on building general awareness and appealing to broad consumer segments. Flexibility of its pricing plans: single-ride passes, full-day passes,and annual memberships made the startup successful. Customers who purchase single-ride or full-day passes are referred to as casual riders. Customers\n",
    "who purchase annual memberships are Cyclistic members.\n",
    "\n",
    "Cyclistic’s finance analysts have highlighted that casual members are much more profitable than casual riders. Although the pricing flexibility helps Cyclistic attract more customers, Moreno, the marketing director, realized that instead of growing more customers we should focus on converting casual riders to members. She notes that casual riders are already aware of the Cyclistic program and have chosen Cyclistic for their mobility needs.\n",
    "\n",
    "Data Analyst needs to be working for Cyclistic in the marketing analytics team by following the six stages of the Data Analysis process: Ask, Prepare, Process, Analyze, Share, and Act to result in a structure that makes decision-making and problem-solving easier.\n",
    "\n",
    "**Methodolog**\n",
    "1. **ASK**\n",
    "Moreno has tasked the marketing analytics team to design effective strategies to convert casual riders of Cyclistic into yearly members. \n",
    "Three questions will guide the marketing analytics team:\n",
    "\n",
    "i.   How do annual members and casual riders differ regarding Cyclistic bike usage?\n",
    "ii.  Why would casual riders buy the Cyclistic annual membership?\n",
    "iii. How can digital media influence casual riders of Cyclistic to become annual members?\n",
    "\n",
    "2. **Prepare**\n",
    "\n",
    "The dataset has been taken from divvy-bikeshare-data."
   ]
  },
  {
   "cell_type": "code",
   "execution_count": 1,
   "id": "e970d0c6",
   "metadata": {
    "execution": {
     "iopub.execute_input": "2023-05-11T19:58:39.598030Z",
     "iopub.status.busy": "2023-05-11T19:58:39.597469Z",
     "iopub.status.idle": "2023-05-11T19:58:39.613767Z",
     "shell.execute_reply": "2023-05-11T19:58:39.612511Z"
    },
    "papermill": {
     "duration": 0.042079,
     "end_time": "2023-05-11T19:58:39.616788",
     "exception": false,
     "start_time": "2023-05-11T19:58:39.574709",
     "status": "completed"
    },
    "tags": []
   },
   "outputs": [],
   "source": [
    "import numpy as np # linear algebra\n",
    "import pandas as pd # data processing, CSV file I/O (e.g. pd.read_csv)\n",
    "import datetime,os\n",
    "import matplotlib.pyplot as plt"
   ]
  },
  {
   "cell_type": "code",
   "execution_count": 2,
   "id": "8697a37d",
   "metadata": {
    "execution": {
     "iopub.execute_input": "2023-05-11T19:58:39.661177Z",
     "iopub.status.busy": "2023-05-11T19:58:39.660738Z",
     "iopub.status.idle": "2023-05-11T19:58:39.669212Z",
     "shell.execute_reply": "2023-05-11T19:58:39.668145Z"
    },
    "papermill": {
     "duration": 0.034817,
     "end_time": "2023-05-11T19:58:39.672789",
     "exception": false,
     "start_time": "2023-05-11T19:58:39.637972",
     "status": "completed"
    },
    "tags": []
   },
   "outputs": [
    {
     "data": {
      "text/plain": [
       "'/kaggle/working'"
      ]
     },
     "execution_count": 2,
     "metadata": {},
     "output_type": "execute_result"
    }
   ],
   "source": [
    "p1=os.getcwd() # to get current directory\n",
    "p1"
   ]
  },
  {
   "cell_type": "code",
   "execution_count": 3,
   "id": "22b08e81",
   "metadata": {
    "execution": {
     "iopub.execute_input": "2023-05-11T19:58:39.719493Z",
     "iopub.status.busy": "2023-05-11T19:58:39.718999Z",
     "iopub.status.idle": "2023-05-11T19:58:39.737982Z",
     "shell.execute_reply": "2023-05-11T19:58:39.736562Z"
    },
    "papermill": {
     "duration": 0.045905,
     "end_time": "2023-05-11T19:58:39.740723",
     "exception": false,
     "start_time": "2023-05-11T19:58:39.694818",
     "status": "completed"
    },
    "tags": []
   },
   "outputs": [
    {
     "data": {
      "text/plain": [
       "['1.csv',\n",
       " '11.csv',\n",
       " '3.csv',\n",
       " '5.csv',\n",
       " '2.csv',\n",
       " '4.csv',\n",
       " '8.csv',\n",
       " '12.csv',\n",
       " '9.csv',\n",
       " '7.csv',\n",
       " '6.csv',\n",
       " '10.csv']"
      ]
     },
     "execution_count": 3,
     "metadata": {},
     "output_type": "execute_result"
    }
   ],
   "source": [
    "os.chdir('/kaggle/') # to change directory\n",
    "files=os.listdir('/kaggle/input/bikesharejuly21-jun22') # to list all files in given folder\n",
    "files"
   ]
  },
  {
   "cell_type": "code",
   "execution_count": 4,
   "id": "96e485ee",
   "metadata": {
    "execution": {
     "iopub.execute_input": "2023-05-11T19:58:39.784702Z",
     "iopub.status.busy": "2023-05-11T19:58:39.784290Z",
     "iopub.status.idle": "2023-05-11T19:59:20.271116Z",
     "shell.execute_reply": "2023-05-11T19:59:20.269691Z"
    },
    "papermill": {
     "duration": 40.534795,
     "end_time": "2023-05-11T19:59:20.296276",
     "exception": false,
     "start_time": "2023-05-11T19:58:39.761481",
     "status": "completed"
    },
    "tags": []
   },
   "outputs": [
    {
     "name": "stdout",
     "output_type": "stream",
     "text": [
      "<class 'pandas.core.frame.DataFrame'>\n",
      "Int64Index: 5900385 entries, 0 to 371248\n",
      "Data columns (total 13 columns):\n",
      " #   Column              Dtype  \n",
      "---  ------              -----  \n",
      " 0   ride_id             object \n",
      " 1   rideable_type       object \n",
      " 2   started_at          object \n",
      " 3   ended_at            object \n",
      " 4   start_station_name  object \n",
      " 5   start_station_id    object \n",
      " 6   end_station_name    object \n",
      " 7   end_station_id      object \n",
      " 8   start_lat           float64\n",
      " 9   start_lng           float64\n",
      " 10  end_lat             float64\n",
      " 11  end_lng             float64\n",
      " 12  member_casual       object \n",
      "dtypes: float64(4), object(9)\n",
      "memory usage: 630.2+ MB\n"
     ]
    },
    {
     "data": {
      "text/plain": [
       "13"
      ]
     },
     "execution_count": 4,
     "metadata": {},
     "output_type": "execute_result"
    }
   ],
   "source": [
    "# compiling all data files into single file\n",
    "dflist=[]\n",
    "for file in files:\n",
    "    dflist.append(pd.read_csv(\"/kaggle/input/bikesharejuly21-jun22/\"+file))\n",
    "df=pd.concat(dflist)\n",
    "\n",
    "df.info() \n",
    "df.shape[1]"
   ]
  },
  {
   "cell_type": "markdown",
   "id": "baafb1a1",
   "metadata": {
    "papermill": {
     "duration": 0.022348,
     "end_time": "2023-05-11T19:59:20.340236",
     "exception": false,
     "start_time": "2023-05-11T19:59:20.317888",
     "status": "completed"
    },
    "tags": []
   },
   "source": [
    "3 **Process the Data**\n",
    "  \n",
    "   i. **Cleaning the Data**\n",
    "\n",
    "Cleaning and transformation can be done using spreadsheets, SQL and python. I have choosen python due to large size of dataset to process the data including cleaning and transformation. Python libraries are useful functions that eliminate the need to write code from scratch. Presently, there are over 137,000 libraries available in Python."
   ]
  },
  {
   "cell_type": "code",
   "execution_count": 5,
   "id": "c3f366db",
   "metadata": {
    "execution": {
     "iopub.execute_input": "2023-05-11T19:59:20.385848Z",
     "iopub.status.busy": "2023-05-11T19:59:20.385405Z",
     "iopub.status.idle": "2023-05-11T19:59:26.340798Z",
     "shell.execute_reply": "2023-05-11T19:59:26.339740Z"
    },
    "papermill": {
     "duration": 5.98242,
     "end_time": "2023-05-11T19:59:26.344115",
     "exception": false,
     "start_time": "2023-05-11T19:59:20.361695",
     "status": "completed"
    },
    "tags": []
   },
   "outputs": [
    {
     "data": {
      "text/plain": [
       "ride_id                    0\n",
       "rideable_type              0\n",
       "started_at                 0\n",
       "ended_at                   0\n",
       "start_station_name    836018\n",
       "start_station_id      836015\n",
       "end_station_name      892103\n",
       "end_station_id        892103\n",
       "start_lat                  0\n",
       "start_lng                  0\n",
       "end_lat                 5374\n",
       "end_lng                 5374\n",
       "member_casual              0\n",
       "dtype: int64"
      ]
     },
     "execution_count": 5,
     "metadata": {},
     "output_type": "execute_result"
    }
   ],
   "source": [
    "# to check if null values exist\n",
    "df.isnull().sum()"
   ]
  },
  {
   "cell_type": "code",
   "execution_count": 6,
   "id": "a330cadb",
   "metadata": {
    "execution": {
     "iopub.execute_input": "2023-05-11T19:59:26.390736Z",
     "iopub.status.busy": "2023-05-11T19:59:26.390339Z",
     "iopub.status.idle": "2023-05-11T19:59:41.009518Z",
     "shell.execute_reply": "2023-05-11T19:59:41.008198Z"
    },
    "papermill": {
     "duration": 14.644609,
     "end_time": "2023-05-11T19:59:41.012386",
     "exception": false,
     "start_time": "2023-05-11T19:59:26.367777",
     "status": "completed"
    },
    "tags": []
   },
   "outputs": [
    {
     "data": {
      "text/plain": [
       "ride_id               0\n",
       "rideable_type         0\n",
       "started_at            0\n",
       "ended_at              0\n",
       "start_station_name    0\n",
       "start_station_id      0\n",
       "end_station_name      0\n",
       "end_station_id        0\n",
       "start_lat             0\n",
       "start_lng             0\n",
       "end_lat               0\n",
       "end_lng               0\n",
       "member_casual         0\n",
       "dtype: int64"
      ]
     },
     "execution_count": 6,
     "metadata": {},
     "output_type": "execute_result"
    }
   ],
   "source": [
    "# Removing rows having null values\n",
    "df.dropna(how='any',axis=0,inplace=True)\n",
    "df.isnull().sum()"
   ]
  },
  {
   "cell_type": "code",
   "execution_count": 7,
   "id": "9628e250",
   "metadata": {
    "execution": {
     "iopub.execute_input": "2023-05-11T19:59:41.057701Z",
     "iopub.status.busy": "2023-05-11T19:59:41.057216Z",
     "iopub.status.idle": "2023-05-11T19:59:59.772530Z",
     "shell.execute_reply": "2023-05-11T19:59:59.771152Z"
    },
    "papermill": {
     "duration": 18.741302,
     "end_time": "2023-05-11T19:59:59.775421",
     "exception": false,
     "start_time": "2023-05-11T19:59:41.034119",
     "status": "completed"
    },
    "tags": []
   },
   "outputs": [
    {
     "data": {
      "text/plain": [
       "False"
      ]
     },
     "execution_count": 7,
     "metadata": {},
     "output_type": "execute_result"
    }
   ],
   "source": [
    "# to check if any duplicate record exists\n",
    "df.duplicated().any()"
   ]
  },
  {
   "cell_type": "code",
   "execution_count": 8,
   "id": "cfee6c84",
   "metadata": {
    "execution": {
     "iopub.execute_input": "2023-05-11T19:59:59.821405Z",
     "iopub.status.busy": "2023-05-11T19:59:59.820914Z",
     "iopub.status.idle": "2023-05-11T20:00:03.499602Z",
     "shell.execute_reply": "2023-05-11T20:00:03.497561Z"
    },
    "papermill": {
     "duration": 3.705315,
     "end_time": "2023-05-11T20:00:03.502885",
     "exception": false,
     "start_time": "2023-05-11T19:59:59.797570",
     "status": "completed"
    },
    "tags": []
   },
   "outputs": [
    {
     "name": "stdout",
     "output_type": "stream",
     "text": [
      "<class 'pandas.core.frame.DataFrame'>\n",
      "Int64Index: 4678871 entries, 0 to 371248\n",
      "Data columns (total 15 columns):\n",
      " #   Column              Dtype         \n",
      "---  ------              -----         \n",
      " 0   ride_id             object        \n",
      " 1   rideable_type       object        \n",
      " 2   started_at          object        \n",
      " 3   ended_at            object        \n",
      " 4   start_station_name  object        \n",
      " 5   start_station_id    object        \n",
      " 6   end_station_name    object        \n",
      " 7   end_station_id      object        \n",
      " 8   start_lat           float64       \n",
      " 9   start_lng           float64       \n",
      " 10  end_lat             float64       \n",
      " 11  end_lng             float64       \n",
      " 12  member_casual       object        \n",
      " 13  startdate           datetime64[ns]\n",
      " 14  enddate             datetime64[ns]\n",
      "dtypes: datetime64[ns](2), float64(4), object(9)\n",
      "memory usage: 571.2+ MB\n"
     ]
    }
   ],
   "source": [
    "# Converting datatype of datetime object to datetime to make it usable in further calculations\n",
    "df[\"startdate\"] = pd.to_datetime(df[\"started_at\"])\n",
    "df[\"enddate\"] = pd.to_datetime(df[\"ended_at\"])\n",
    "\n",
    "df.info()"
   ]
  },
  {
   "cell_type": "markdown",
   "id": "33c3a385",
   "metadata": {
    "papermill": {
     "duration": 0.023558,
     "end_time": "2023-05-11T20:00:03.551512",
     "exception": false,
     "start_time": "2023-05-11T20:00:03.527954",
     "status": "completed"
    },
    "tags": []
   },
   "source": [
    "ii. **Transformation of Data**\n",
    "\n",
    "Making metrics by transformation will discover hidden new insights."
   ]
  },
  {
   "cell_type": "code",
   "execution_count": 9,
   "id": "3d8fd38f",
   "metadata": {
    "execution": {
     "iopub.execute_input": "2023-05-11T20:00:03.599227Z",
     "iopub.status.busy": "2023-05-11T20:00:03.598711Z",
     "iopub.status.idle": "2023-05-11T20:00:03.899644Z",
     "shell.execute_reply": "2023-05-11T20:00:03.898219Z"
    },
    "papermill": {
     "duration": 0.328196,
     "end_time": "2023-05-11T20:00:03.902518",
     "exception": false,
     "start_time": "2023-05-11T20:00:03.574322",
     "status": "completed"
    },
    "tags": []
   },
   "outputs": [
    {
     "data": {
      "text/plain": [
       "count    4.678871e+06\n",
       "mean     1.877122e+01\n",
       "std      1.186628e+02\n",
       "min     -1.290000e+02\n",
       "25%      6.000000e+00\n",
       "50%      1.100000e+01\n",
       "75%      2.000000e+01\n",
       "max      4.910700e+04\n",
       "Name: ride_len, dtype: float64"
      ]
     },
     "execution_count": 9,
     "metadata": {},
     "output_type": "execute_result"
    }
   ],
   "source": [
    "\"\"\" Now lets start calculating the metrics like ride length and ride duration that will \n",
    "provide useful insights\"\"\"\n",
    "df[\"ride_len\"] = (df[\"enddate\"]-df[\"startdate\"])/(pd.Timedelta(minutes=1))\n",
    "df[\"ride_len\"]= df[\"ride_len\"].astype('int32')\n",
    "\n",
    "df[\"ride_len\"].describe(include=\"all\")\n"
   ]
  },
  {
   "cell_type": "code",
   "execution_count": 10,
   "id": "fc2cb897",
   "metadata": {
    "execution": {
     "iopub.execute_input": "2023-05-11T20:00:03.948990Z",
     "iopub.status.busy": "2023-05-11T20:00:03.948509Z",
     "iopub.status.idle": "2023-05-11T20:00:05.023446Z",
     "shell.execute_reply": "2023-05-11T20:00:05.021854Z"
    },
    "papermill": {
     "duration": 1.102051,
     "end_time": "2023-05-11T20:00:05.026699",
     "exception": false,
     "start_time": "2023-05-11T20:00:03.924648",
     "status": "completed"
    },
    "tags": []
   },
   "outputs": [],
   "source": [
    "\"\"\"Taking the data except the outliers and inconsistent values( ride length less than 1 min means that \n",
    "either it was taken for just a trial/quality check not actual ride or mistakenly entry \n",
    "of end time earlier than start time)\"\"\"\n",
    "\n",
    "df=df[df['ride_len']>=1]"
   ]
  },
  {
   "cell_type": "code",
   "execution_count": 11,
   "id": "e23acd29",
   "metadata": {
    "execution": {
     "iopub.execute_input": "2023-05-11T20:00:05.074175Z",
     "iopub.status.busy": "2023-05-11T20:00:05.072965Z",
     "iopub.status.idle": "2023-05-11T20:00:05.242699Z",
     "shell.execute_reply": "2023-05-11T20:00:05.241550Z"
    },
    "papermill": {
     "duration": 0.19652,
     "end_time": "2023-05-11T20:00:05.245722",
     "exception": false,
     "start_time": "2023-05-11T20:00:05.049202",
     "status": "completed"
    },
    "tags": []
   },
   "outputs": [],
   "source": [
    "# Calculating the trip distance\n",
    "df[\"trip_distance\"] = np.sqrt(((df[\"end_lat\"] - df[\"start_lat\"])**2) + ((df[\"end_lng\"] - df[\"start_lng\"])**2))"
   ]
  },
  {
   "cell_type": "code",
   "execution_count": 12,
   "id": "6f494212",
   "metadata": {
    "execution": {
     "iopub.execute_input": "2023-05-11T20:00:05.296207Z",
     "iopub.status.busy": "2023-05-11T20:00:05.295070Z",
     "iopub.status.idle": "2023-05-11T20:00:10.746761Z",
     "shell.execute_reply": "2023-05-11T20:00:10.745364Z"
    },
    "papermill": {
     "duration": 5.480976,
     "end_time": "2023-05-11T20:00:10.749702",
     "exception": false,
     "start_time": "2023-05-11T20:00:05.268726",
     "status": "completed"
    },
    "tags": []
   },
   "outputs": [
    {
     "data": {
      "text/html": [
       "<div>\n",
       "<style scoped>\n",
       "    .dataframe tbody tr th:only-of-type {\n",
       "        vertical-align: middle;\n",
       "    }\n",
       "\n",
       "    .dataframe tbody tr th {\n",
       "        vertical-align: top;\n",
       "    }\n",
       "\n",
       "    .dataframe thead th {\n",
       "        text-align: right;\n",
       "    }\n",
       "</style>\n",
       "<table border=\"1\" class=\"dataframe\">\n",
       "  <thead>\n",
       "    <tr style=\"text-align: right;\">\n",
       "      <th></th>\n",
       "      <th>ride_id</th>\n",
       "      <th>rideable_type</th>\n",
       "      <th>started_at</th>\n",
       "      <th>ended_at</th>\n",
       "      <th>start_station_name</th>\n",
       "      <th>start_station_id</th>\n",
       "      <th>end_station_name</th>\n",
       "      <th>end_station_id</th>\n",
       "      <th>start_lat</th>\n",
       "      <th>start_lng</th>\n",
       "      <th>end_lat</th>\n",
       "      <th>end_lng</th>\n",
       "      <th>member_casual</th>\n",
       "      <th>startdate</th>\n",
       "      <th>enddate</th>\n",
       "      <th>ride_len</th>\n",
       "      <th>trip_distance</th>\n",
       "      <th>startday</th>\n",
       "      <th>starttime</th>\n",
       "    </tr>\n",
       "  </thead>\n",
       "  <tbody>\n",
       "    <tr>\n",
       "      <th>0</th>\n",
       "      <td>0A1B623926EF4E16</td>\n",
       "      <td>docked_bike</td>\n",
       "      <td>2021-07-02 14:44:36</td>\n",
       "      <td>2021-07-02 15:19:58</td>\n",
       "      <td>Michigan Ave &amp; Washington St</td>\n",
       "      <td>13001</td>\n",
       "      <td>Halsted St &amp; North Branch St</td>\n",
       "      <td>KA1504000117</td>\n",
       "      <td>41.883984</td>\n",
       "      <td>-87.624684</td>\n",
       "      <td>41.899368</td>\n",
       "      <td>-87.648480</td>\n",
       "      <td>casual</td>\n",
       "      <td>2021-07-02 14:44:36</td>\n",
       "      <td>2021-07-02 15:19:58</td>\n",
       "      <td>35</td>\n",
       "      <td>0.028336</td>\n",
       "      <td>2021-07-02</td>\n",
       "      <td>14:44:36</td>\n",
       "    </tr>\n",
       "    <tr>\n",
       "      <th>1</th>\n",
       "      <td>B2D5583A5A5E76EE</td>\n",
       "      <td>classic_bike</td>\n",
       "      <td>2021-07-07 16:57:42</td>\n",
       "      <td>2021-07-07 17:16:09</td>\n",
       "      <td>California Ave &amp; Cortez St</td>\n",
       "      <td>17660</td>\n",
       "      <td>Wood St &amp; Hubbard St</td>\n",
       "      <td>13432</td>\n",
       "      <td>41.900363</td>\n",
       "      <td>-87.696704</td>\n",
       "      <td>41.889899</td>\n",
       "      <td>-87.671473</td>\n",
       "      <td>casual</td>\n",
       "      <td>2021-07-07 16:57:42</td>\n",
       "      <td>2021-07-07 17:16:09</td>\n",
       "      <td>18</td>\n",
       "      <td>0.027315</td>\n",
       "      <td>2021-07-07</td>\n",
       "      <td>16:57:42</td>\n",
       "    </tr>\n",
       "    <tr>\n",
       "      <th>2</th>\n",
       "      <td>6F264597DDBF427A</td>\n",
       "      <td>classic_bike</td>\n",
       "      <td>2021-07-25 11:30:55</td>\n",
       "      <td>2021-07-25 11:48:45</td>\n",
       "      <td>Wabash Ave &amp; 16th St</td>\n",
       "      <td>SL-012</td>\n",
       "      <td>Rush St &amp; Hubbard St</td>\n",
       "      <td>KA1503000044</td>\n",
       "      <td>41.860384</td>\n",
       "      <td>-87.625813</td>\n",
       "      <td>41.890173</td>\n",
       "      <td>-87.626185</td>\n",
       "      <td>member</td>\n",
       "      <td>2021-07-25 11:30:55</td>\n",
       "      <td>2021-07-25 11:48:45</td>\n",
       "      <td>17</td>\n",
       "      <td>0.029791</td>\n",
       "      <td>2021-07-25</td>\n",
       "      <td>11:30:55</td>\n",
       "    </tr>\n",
       "    <tr>\n",
       "      <th>3</th>\n",
       "      <td>379B58EAB20E8AA5</td>\n",
       "      <td>classic_bike</td>\n",
       "      <td>2021-07-08 22:08:30</td>\n",
       "      <td>2021-07-08 22:23:32</td>\n",
       "      <td>California Ave &amp; Cortez St</td>\n",
       "      <td>17660</td>\n",
       "      <td>Carpenter St &amp; Huron St</td>\n",
       "      <td>13196</td>\n",
       "      <td>41.900363</td>\n",
       "      <td>-87.696704</td>\n",
       "      <td>41.894556</td>\n",
       "      <td>-87.653449</td>\n",
       "      <td>member</td>\n",
       "      <td>2021-07-08 22:08:30</td>\n",
       "      <td>2021-07-08 22:23:32</td>\n",
       "      <td>15</td>\n",
       "      <td>0.043643</td>\n",
       "      <td>2021-07-08</td>\n",
       "      <td>22:08:30</td>\n",
       "    </tr>\n",
       "    <tr>\n",
       "      <th>4</th>\n",
       "      <td>6615C1E4EB08E8FB</td>\n",
       "      <td>electric_bike</td>\n",
       "      <td>2021-07-28 16:08:06</td>\n",
       "      <td>2021-07-28 16:27:09</td>\n",
       "      <td>California Ave &amp; Cortez St</td>\n",
       "      <td>17660</td>\n",
       "      <td>Elizabeth (May) St &amp; Fulton St</td>\n",
       "      <td>13197</td>\n",
       "      <td>41.900350</td>\n",
       "      <td>-87.696682</td>\n",
       "      <td>41.886593</td>\n",
       "      <td>-87.658387</td>\n",
       "      <td>casual</td>\n",
       "      <td>2021-07-28 16:08:06</td>\n",
       "      <td>2021-07-28 16:27:09</td>\n",
       "      <td>19</td>\n",
       "      <td>0.040691</td>\n",
       "      <td>2021-07-28</td>\n",
       "      <td>16:08:06</td>\n",
       "    </tr>\n",
       "    <tr>\n",
       "      <th>...</th>\n",
       "      <td>...</td>\n",
       "      <td>...</td>\n",
       "      <td>...</td>\n",
       "      <td>...</td>\n",
       "      <td>...</td>\n",
       "      <td>...</td>\n",
       "      <td>...</td>\n",
       "      <td>...</td>\n",
       "      <td>...</td>\n",
       "      <td>...</td>\n",
       "      <td>...</td>\n",
       "      <td>...</td>\n",
       "      <td>...</td>\n",
       "      <td>...</td>\n",
       "      <td>...</td>\n",
       "      <td>...</td>\n",
       "      <td>...</td>\n",
       "      <td>...</td>\n",
       "      <td>...</td>\n",
       "    </tr>\n",
       "    <tr>\n",
       "      <th>371244</th>\n",
       "      <td>C5A123D7BF8D350A</td>\n",
       "      <td>electric_bike</td>\n",
       "      <td>2022-04-22 15:54:11</td>\n",
       "      <td>2022-04-22 16:20:59</td>\n",
       "      <td>Streeter Dr &amp; Grand Ave</td>\n",
       "      <td>13022</td>\n",
       "      <td>California Ave &amp; North Ave</td>\n",
       "      <td>13258</td>\n",
       "      <td>41.892296</td>\n",
       "      <td>-87.612198</td>\n",
       "      <td>41.910475</td>\n",
       "      <td>-87.696894</td>\n",
       "      <td>member</td>\n",
       "      <td>2022-04-22 15:54:11</td>\n",
       "      <td>2022-04-22 16:20:59</td>\n",
       "      <td>26</td>\n",
       "      <td>0.086625</td>\n",
       "      <td>2022-04-22</td>\n",
       "      <td>15:54:11</td>\n",
       "    </tr>\n",
       "    <tr>\n",
       "      <th>371245</th>\n",
       "      <td>F7FCC7C26D8D137D</td>\n",
       "      <td>electric_bike</td>\n",
       "      <td>2022-04-21 20:18:17</td>\n",
       "      <td>2022-04-21 20:46:45</td>\n",
       "      <td>Streeter Dr &amp; Grand Ave</td>\n",
       "      <td>13022</td>\n",
       "      <td>California Ave &amp; North Ave</td>\n",
       "      <td>13258</td>\n",
       "      <td>41.892295</td>\n",
       "      <td>-87.612323</td>\n",
       "      <td>41.910475</td>\n",
       "      <td>-87.696894</td>\n",
       "      <td>member</td>\n",
       "      <td>2022-04-21 20:18:17</td>\n",
       "      <td>2022-04-21 20:46:45</td>\n",
       "      <td>28</td>\n",
       "      <td>0.086504</td>\n",
       "      <td>2022-04-21</td>\n",
       "      <td>20:18:17</td>\n",
       "    </tr>\n",
       "    <tr>\n",
       "      <th>371246</th>\n",
       "      <td>43D351300A40000A</td>\n",
       "      <td>classic_bike</td>\n",
       "      <td>2022-04-21 16:46:02</td>\n",
       "      <td>2022-04-21 17:15:05</td>\n",
       "      <td>Franklin St &amp; Monroe St</td>\n",
       "      <td>TA1309000007</td>\n",
       "      <td>St. Clair St &amp; Erie St</td>\n",
       "      <td>13016</td>\n",
       "      <td>41.880317</td>\n",
       "      <td>-87.635185</td>\n",
       "      <td>41.894345</td>\n",
       "      <td>-87.622798</td>\n",
       "      <td>member</td>\n",
       "      <td>2022-04-21 16:46:02</td>\n",
       "      <td>2022-04-21 17:15:05</td>\n",
       "      <td>29</td>\n",
       "      <td>0.018714</td>\n",
       "      <td>2022-04-21</td>\n",
       "      <td>16:46:02</td>\n",
       "    </tr>\n",
       "    <tr>\n",
       "      <th>371247</th>\n",
       "      <td>1618BFEEA7B566EF</td>\n",
       "      <td>electric_bike</td>\n",
       "      <td>2022-04-16 13:19:44</td>\n",
       "      <td>2022-04-16 13:37:31</td>\n",
       "      <td>Ashland Ave &amp; Blackhawk St</td>\n",
       "      <td>13224</td>\n",
       "      <td>Southport Ave &amp; Waveland Ave</td>\n",
       "      <td>13235</td>\n",
       "      <td>41.907094</td>\n",
       "      <td>-87.667217</td>\n",
       "      <td>41.948150</td>\n",
       "      <td>-87.663940</td>\n",
       "      <td>casual</td>\n",
       "      <td>2022-04-16 13:19:44</td>\n",
       "      <td>2022-04-16 13:37:31</td>\n",
       "      <td>17</td>\n",
       "      <td>0.041186</td>\n",
       "      <td>2022-04-16</td>\n",
       "      <td>13:19:44</td>\n",
       "    </tr>\n",
       "    <tr>\n",
       "      <th>371248</th>\n",
       "      <td>92C069001A6B17B1</td>\n",
       "      <td>electric_bike</td>\n",
       "      <td>2022-04-21 18:06:41</td>\n",
       "      <td>2022-04-21 18:11:49</td>\n",
       "      <td>Southport Ave &amp; Clark St</td>\n",
       "      <td>TA1308000047</td>\n",
       "      <td>Southport Ave &amp; Waveland Ave</td>\n",
       "      <td>13235</td>\n",
       "      <td>41.957102</td>\n",
       "      <td>-87.664184</td>\n",
       "      <td>41.948150</td>\n",
       "      <td>-87.663940</td>\n",
       "      <td>casual</td>\n",
       "      <td>2022-04-21 18:06:41</td>\n",
       "      <td>2022-04-21 18:11:49</td>\n",
       "      <td>5</td>\n",
       "      <td>0.008956</td>\n",
       "      <td>2022-04-21</td>\n",
       "      <td>18:06:41</td>\n",
       "    </tr>\n",
       "  </tbody>\n",
       "</table>\n",
       "<p>4612376 rows × 19 columns</p>\n",
       "</div>"
      ],
      "text/plain": [
       "                 ride_id  rideable_type           started_at  \\\n",
       "0       0A1B623926EF4E16    docked_bike  2021-07-02 14:44:36   \n",
       "1       B2D5583A5A5E76EE   classic_bike  2021-07-07 16:57:42   \n",
       "2       6F264597DDBF427A   classic_bike  2021-07-25 11:30:55   \n",
       "3       379B58EAB20E8AA5   classic_bike  2021-07-08 22:08:30   \n",
       "4       6615C1E4EB08E8FB  electric_bike  2021-07-28 16:08:06   \n",
       "...                  ...            ...                  ...   \n",
       "371244  C5A123D7BF8D350A  electric_bike  2022-04-22 15:54:11   \n",
       "371245  F7FCC7C26D8D137D  electric_bike  2022-04-21 20:18:17   \n",
       "371246  43D351300A40000A   classic_bike  2022-04-21 16:46:02   \n",
       "371247  1618BFEEA7B566EF  electric_bike  2022-04-16 13:19:44   \n",
       "371248  92C069001A6B17B1  electric_bike  2022-04-21 18:06:41   \n",
       "\n",
       "                   ended_at            start_station_name start_station_id  \\\n",
       "0       2021-07-02 15:19:58  Michigan Ave & Washington St            13001   \n",
       "1       2021-07-07 17:16:09    California Ave & Cortez St            17660   \n",
       "2       2021-07-25 11:48:45          Wabash Ave & 16th St           SL-012   \n",
       "3       2021-07-08 22:23:32    California Ave & Cortez St            17660   \n",
       "4       2021-07-28 16:27:09    California Ave & Cortez St            17660   \n",
       "...                     ...                           ...              ...   \n",
       "371244  2022-04-22 16:20:59       Streeter Dr & Grand Ave            13022   \n",
       "371245  2022-04-21 20:46:45       Streeter Dr & Grand Ave            13022   \n",
       "371246  2022-04-21 17:15:05       Franklin St & Monroe St     TA1309000007   \n",
       "371247  2022-04-16 13:37:31    Ashland Ave & Blackhawk St            13224   \n",
       "371248  2022-04-21 18:11:49      Southport Ave & Clark St     TA1308000047   \n",
       "\n",
       "                      end_station_name end_station_id  start_lat  start_lng  \\\n",
       "0         Halsted St & North Branch St   KA1504000117  41.883984 -87.624684   \n",
       "1                 Wood St & Hubbard St          13432  41.900363 -87.696704   \n",
       "2                 Rush St & Hubbard St   KA1503000044  41.860384 -87.625813   \n",
       "3              Carpenter St & Huron St          13196  41.900363 -87.696704   \n",
       "4       Elizabeth (May) St & Fulton St          13197  41.900350 -87.696682   \n",
       "...                                ...            ...        ...        ...   \n",
       "371244      California Ave & North Ave          13258  41.892296 -87.612198   \n",
       "371245      California Ave & North Ave          13258  41.892295 -87.612323   \n",
       "371246          St. Clair St & Erie St          13016  41.880317 -87.635185   \n",
       "371247    Southport Ave & Waveland Ave          13235  41.907094 -87.667217   \n",
       "371248    Southport Ave & Waveland Ave          13235  41.957102 -87.664184   \n",
       "\n",
       "          end_lat    end_lng member_casual           startdate  \\\n",
       "0       41.899368 -87.648480        casual 2021-07-02 14:44:36   \n",
       "1       41.889899 -87.671473        casual 2021-07-07 16:57:42   \n",
       "2       41.890173 -87.626185        member 2021-07-25 11:30:55   \n",
       "3       41.894556 -87.653449        member 2021-07-08 22:08:30   \n",
       "4       41.886593 -87.658387        casual 2021-07-28 16:08:06   \n",
       "...           ...        ...           ...                 ...   \n",
       "371244  41.910475 -87.696894        member 2022-04-22 15:54:11   \n",
       "371245  41.910475 -87.696894        member 2022-04-21 20:18:17   \n",
       "371246  41.894345 -87.622798        member 2022-04-21 16:46:02   \n",
       "371247  41.948150 -87.663940        casual 2022-04-16 13:19:44   \n",
       "371248  41.948150 -87.663940        casual 2022-04-21 18:06:41   \n",
       "\n",
       "                   enddate  ride_len  trip_distance    startday starttime  \n",
       "0      2021-07-02 15:19:58        35       0.028336  2021-07-02  14:44:36  \n",
       "1      2021-07-07 17:16:09        18       0.027315  2021-07-07  16:57:42  \n",
       "2      2021-07-25 11:48:45        17       0.029791  2021-07-25  11:30:55  \n",
       "3      2021-07-08 22:23:32        15       0.043643  2021-07-08  22:08:30  \n",
       "4      2021-07-28 16:27:09        19       0.040691  2021-07-28  16:08:06  \n",
       "...                    ...       ...            ...         ...       ...  \n",
       "371244 2022-04-22 16:20:59        26       0.086625  2022-04-22  15:54:11  \n",
       "371245 2022-04-21 20:46:45        28       0.086504  2022-04-21  20:18:17  \n",
       "371246 2022-04-21 17:15:05        29       0.018714  2022-04-21  16:46:02  \n",
       "371247 2022-04-16 13:37:31        17       0.041186  2022-04-16  13:19:44  \n",
       "371248 2022-04-21 18:11:49         5       0.008956  2022-04-21  18:06:41  \n",
       "\n",
       "[4612376 rows x 19 columns]"
      ]
     },
     "execution_count": 12,
     "metadata": {},
     "output_type": "execute_result"
    }
   ],
   "source": [
    "# Separating date and time in different columns from date tim object\n",
    "df[\"startday\"]=[i.split(\" \")[0] for i in df[\"started_at\"]]\n",
    "df[\"starttime\"]=[i.split(\" \")[1] for i in df[\"started_at\"]]\n",
    "df"
   ]
  },
  {
   "cell_type": "code",
   "execution_count": 13,
   "id": "cb150776",
   "metadata": {
    "execution": {
     "iopub.execute_input": "2023-05-11T20:00:10.801191Z",
     "iopub.status.busy": "2023-05-11T20:00:10.800432Z",
     "iopub.status.idle": "2023-05-11T20:00:48.049631Z",
     "shell.execute_reply": "2023-05-11T20:00:48.048314Z"
    },
    "papermill": {
     "duration": 37.301515,
     "end_time": "2023-05-11T20:00:48.074349",
     "exception": false,
     "start_time": "2023-05-11T20:00:10.772834",
     "status": "completed"
    },
    "tags": []
   },
   "outputs": [
    {
     "data": {
      "text/plain": [
       "['Thursday', 'Tuesday', 'Saturday', 'Wednesday', 'Friday', 'Sunday', 'Monday']\n",
       "Categories (7, object): ['Sunday' < 'Monday' < 'Tuesday' < 'Wednesday' < 'Thursday' < 'Friday' < 'Saturday']"
      ]
     },
     "execution_count": 13,
     "metadata": {},
     "output_type": "execute_result"
    }
   ],
   "source": [
    "# Calculating weekdays from date and making weekdays in given order\n",
    "df[\"startday\"]= pd.to_datetime(df[\"startday\"])\n",
    "df[\"weekday\"] = df[\"startday\"].apply(lambda x: x.weekday())\n",
    "dict1 = {0: \"Sunday\", 1: \"Monday\", 2: \"Tuesday\", 3: \"Wednesday\", 4: \"Thursday\", 5: \"Friday\", 6: \"Saturday\"}\n",
    "df[\"weekday\"] = df[\"weekday\"].apply(lambda y: dict1[y])\n",
    "cats = ['Sunday', 'Monday', 'Tuesday', 'Wednesday', 'Thursday', 'Friday', 'Saturday']\n",
    "df['weekday'] = pd.Categorical(df['weekday'], categories=cats, ordered=True)\n",
    "df[\"weekday\"].unique()"
   ]
  },
  {
   "cell_type": "code",
   "execution_count": 14,
   "id": "aaf07b42",
   "metadata": {
    "execution": {
     "iopub.execute_input": "2023-05-11T20:00:48.122308Z",
     "iopub.status.busy": "2023-05-11T20:00:48.121788Z",
     "iopub.status.idle": "2023-05-11T20:00:50.552517Z",
     "shell.execute_reply": "2023-05-11T20:00:50.550976Z"
    },
    "papermill": {
     "duration": 2.458473,
     "end_time": "2023-05-11T20:00:50.555681",
     "exception": false,
     "start_time": "2023-05-11T20:00:48.097208",
     "status": "completed"
    },
    "tags": []
   },
   "outputs": [
    {
     "name": "stdout",
     "output_type": "stream",
     "text": [
      "['July', 'May', 'Sep', 'Nov', 'Aug', ..., 'June', 'Mar', 'Jan', 'Dec', 'Apr']\n",
      "Length: 12\n",
      "Categories (12, object): ['Jan' < 'Feb' < 'Mar' < 'Apr' ... 'Sep' < 'Oct' < 'Nov' < 'Dec']\n"
     ]
    }
   ],
   "source": [
    "# Extracting Month and sequencing month in given order\n",
    "df[\"Month\"] = df[\"startday\"].dt.month\n",
    "dict2 = {1: \"Jan\", 2: \"Feb\", 3: \"Mar\", 4: \"Apr\", 5: \"May\", 6: \"June\", 7: \"July\", 8: \"Aug\", 9:\"Sep\", 10:\"Oct\", 11:\"Nov\", 12:\"Dec\" }\n",
    "df[\"Month\"] = df[\"Month\"].apply(lambda w: dict2[w])\n",
    "cats1 = ['Jan', 'Feb', 'Mar', 'Apr', 'May', 'June', 'July', 'Aug', 'Sep', 'Oct', 'Nov', 'Dec']\n",
    "df['Month'] = pd.Categorical(df['Month'], categories=cats1, ordered=True)\n",
    "print (df[\"Month\"].unique())"
   ]
  },
  {
   "cell_type": "code",
   "execution_count": 15,
   "id": "5bd8b177",
   "metadata": {
    "execution": {
     "iopub.execute_input": "2023-05-11T20:00:50.604204Z",
     "iopub.status.busy": "2023-05-11T20:00:50.603773Z",
     "iopub.status.idle": "2023-05-11T20:05:37.222089Z",
     "shell.execute_reply": "2023-05-11T20:05:37.220710Z"
    },
    "papermill": {
     "duration": 286.668969,
     "end_time": "2023-05-11T20:05:37.247923",
     "exception": false,
     "start_time": "2023-05-11T20:00:50.578954",
     "status": "completed"
    },
    "tags": []
   },
   "outputs": [
    {
     "data": {
      "text/plain": [
       "array([14, 16, 11, 22, 17, 12, 18, 21, 20, 15,  7, 19,  9, 10, 13,  5,  1,\n",
       "        8, 23,  4,  0,  2,  6,  3])"
      ]
     },
     "execution_count": 15,
     "metadata": {},
     "output_type": "execute_result"
    }
   ],
   "source": [
    "# Extracting hours from time column\n",
    "df[\"Hour\"] = pd.DatetimeIndex(df[\"starttime\"]).hour\n",
    "df[\"Hour\"].unique()"
   ]
  },
  {
   "cell_type": "code",
   "execution_count": 16,
   "id": "5eadd2c4",
   "metadata": {
    "execution": {
     "iopub.execute_input": "2023-05-11T20:05:37.297202Z",
     "iopub.status.busy": "2023-05-11T20:05:37.296045Z",
     "iopub.status.idle": "2023-05-11T20:05:48.712765Z",
     "shell.execute_reply": "2023-05-11T20:05:48.711179Z"
    },
    "papermill": {
     "duration": 11.444792,
     "end_time": "2023-05-11T20:05:48.715816",
     "exception": false,
     "start_time": "2023-05-11T20:05:37.271024",
     "status": "completed"
    },
    "tags": []
   },
   "outputs": [
    {
     "data": {
      "text/html": [
       "<div>\n",
       "<style scoped>\n",
       "    .dataframe tbody tr th:only-of-type {\n",
       "        vertical-align: middle;\n",
       "    }\n",
       "\n",
       "    .dataframe tbody tr th {\n",
       "        vertical-align: top;\n",
       "    }\n",
       "\n",
       "    .dataframe thead th {\n",
       "        text-align: right;\n",
       "    }\n",
       "</style>\n",
       "<table border=\"1\" class=\"dataframe\">\n",
       "  <thead>\n",
       "    <tr style=\"text-align: right;\">\n",
       "      <th></th>\n",
       "      <th>ride_id</th>\n",
       "      <th>rideable_type</th>\n",
       "      <th>started_at</th>\n",
       "      <th>ended_at</th>\n",
       "      <th>start_station_name</th>\n",
       "      <th>start_station_id</th>\n",
       "      <th>end_station_name</th>\n",
       "      <th>end_station_id</th>\n",
       "      <th>start_lat</th>\n",
       "      <th>start_lng</th>\n",
       "      <th>...</th>\n",
       "      <th>member_casual</th>\n",
       "      <th>startdate</th>\n",
       "      <th>enddate</th>\n",
       "      <th>ride_len</th>\n",
       "      <th>trip_distance</th>\n",
       "      <th>startday</th>\n",
       "      <th>starttime</th>\n",
       "      <th>weekday</th>\n",
       "      <th>Month</th>\n",
       "      <th>Hour</th>\n",
       "    </tr>\n",
       "  </thead>\n",
       "  <tbody>\n",
       "    <tr>\n",
       "      <th>678771</th>\n",
       "      <td>B68C8C61487B5C15</td>\n",
       "      <td>classic_bike</td>\n",
       "      <td>2021-07-01 00:00:30</td>\n",
       "      <td>2021-07-01 00:46:58</td>\n",
       "      <td>Bissell St &amp; Armitage Ave</td>\n",
       "      <td>13059</td>\n",
       "      <td>Lincoln Ave &amp; Diversey Pkwy</td>\n",
       "      <td>TA1307000064</td>\n",
       "      <td>41.918440</td>\n",
       "      <td>-87.652220</td>\n",
       "      <td>...</td>\n",
       "      <td>casual</td>\n",
       "      <td>2021-07-01 00:00:30</td>\n",
       "      <td>2021-07-01 00:46:58</td>\n",
       "      <td>46</td>\n",
       "      <td>0.015197</td>\n",
       "      <td>2021-07-01</td>\n",
       "      <td>00:00:30</td>\n",
       "      <td>Wednesday</td>\n",
       "      <td>July</td>\n",
       "      <td>0</td>\n",
       "    </tr>\n",
       "    <tr>\n",
       "      <th>433589</th>\n",
       "      <td>3FBF4B489DE3F24E</td>\n",
       "      <td>docked_bike</td>\n",
       "      <td>2021-07-01 00:00:42</td>\n",
       "      <td>2021-07-01 00:10:25</td>\n",
       "      <td>Clark St &amp; Winnemac Ave</td>\n",
       "      <td>TA1309000035</td>\n",
       "      <td>Broadway &amp; Thorndale Ave</td>\n",
       "      <td>15575</td>\n",
       "      <td>41.973348</td>\n",
       "      <td>-87.667855</td>\n",
       "      <td>...</td>\n",
       "      <td>casual</td>\n",
       "      <td>2021-07-01 00:00:42</td>\n",
       "      <td>2021-07-01 00:10:25</td>\n",
       "      <td>9</td>\n",
       "      <td>0.018119</td>\n",
       "      <td>2021-07-01</td>\n",
       "      <td>00:00:42</td>\n",
       "      <td>Wednesday</td>\n",
       "      <td>July</td>\n",
       "      <td>0</td>\n",
       "    </tr>\n",
       "    <tr>\n",
       "      <th>247538</th>\n",
       "      <td>8A1D30385234151D</td>\n",
       "      <td>classic_bike</td>\n",
       "      <td>2021-07-01 00:00:47</td>\n",
       "      <td>2021-07-01 00:28:11</td>\n",
       "      <td>Michigan Ave &amp; Lake St</td>\n",
       "      <td>TA1305000011</td>\n",
       "      <td>Wabash Ave &amp; Wacker Pl</td>\n",
       "      <td>TA1307000131</td>\n",
       "      <td>41.886024</td>\n",
       "      <td>-87.624117</td>\n",
       "      <td>...</td>\n",
       "      <td>casual</td>\n",
       "      <td>2021-07-01 00:00:47</td>\n",
       "      <td>2021-07-01 00:28:11</td>\n",
       "      <td>27</td>\n",
       "      <td>0.002094</td>\n",
       "      <td>2021-07-01</td>\n",
       "      <td>00:00:47</td>\n",
       "      <td>Wednesday</td>\n",
       "      <td>July</td>\n",
       "      <td>0</td>\n",
       "    </tr>\n",
       "    <tr>\n",
       "      <th>782139</th>\n",
       "      <td>D5AA171FAE3335A7</td>\n",
       "      <td>classic_bike</td>\n",
       "      <td>2021-07-01 00:00:53</td>\n",
       "      <td>2021-07-01 00:16:43</td>\n",
       "      <td>Wabash Ave &amp; Wacker Pl</td>\n",
       "      <td>TA1307000131</td>\n",
       "      <td>Wells St &amp; Concord Ln</td>\n",
       "      <td>TA1308000050</td>\n",
       "      <td>41.886875</td>\n",
       "      <td>-87.626030</td>\n",
       "      <td>...</td>\n",
       "      <td>casual</td>\n",
       "      <td>2021-07-01 00:00:53</td>\n",
       "      <td>2021-07-01 00:16:43</td>\n",
       "      <td>15</td>\n",
       "      <td>0.026690</td>\n",
       "      <td>2021-07-01</td>\n",
       "      <td>00:00:53</td>\n",
       "      <td>Wednesday</td>\n",
       "      <td>July</td>\n",
       "      <td>0</td>\n",
       "    </tr>\n",
       "    <tr>\n",
       "      <th>173982</th>\n",
       "      <td>D493F6B96A3117A2</td>\n",
       "      <td>classic_bike</td>\n",
       "      <td>2021-07-01 00:01:53</td>\n",
       "      <td>2021-07-01 00:14:40</td>\n",
       "      <td>Halsted St &amp; 18th St</td>\n",
       "      <td>13099</td>\n",
       "      <td>Morgan St &amp; 31st St</td>\n",
       "      <td>TA1308000046</td>\n",
       "      <td>41.857499</td>\n",
       "      <td>-87.646277</td>\n",
       "      <td>...</td>\n",
       "      <td>casual</td>\n",
       "      <td>2021-07-01 00:01:53</td>\n",
       "      <td>2021-07-01 00:14:40</td>\n",
       "      <td>12</td>\n",
       "      <td>0.020290</td>\n",
       "      <td>2021-07-01</td>\n",
       "      <td>00:01:53</td>\n",
       "      <td>Wednesday</td>\n",
       "      <td>July</td>\n",
       "      <td>0</td>\n",
       "    </tr>\n",
       "    <tr>\n",
       "      <th>...</th>\n",
       "      <td>...</td>\n",
       "      <td>...</td>\n",
       "      <td>...</td>\n",
       "      <td>...</td>\n",
       "      <td>...</td>\n",
       "      <td>...</td>\n",
       "      <td>...</td>\n",
       "      <td>...</td>\n",
       "      <td>...</td>\n",
       "      <td>...</td>\n",
       "      <td>...</td>\n",
       "      <td>...</td>\n",
       "      <td>...</td>\n",
       "      <td>...</td>\n",
       "      <td>...</td>\n",
       "      <td>...</td>\n",
       "      <td>...</td>\n",
       "      <td>...</td>\n",
       "      <td>...</td>\n",
       "      <td>...</td>\n",
       "      <td>...</td>\n",
       "    </tr>\n",
       "    <tr>\n",
       "      <th>673992</th>\n",
       "      <td>04386E078470EF49</td>\n",
       "      <td>electric_bike</td>\n",
       "      <td>2022-06-30 23:59:19</td>\n",
       "      <td>2022-07-01 02:09:14</td>\n",
       "      <td>Franklin St &amp; Chicago Ave</td>\n",
       "      <td>13017</td>\n",
       "      <td>Clark St &amp; Chicago Ave</td>\n",
       "      <td>13303</td>\n",
       "      <td>41.896778</td>\n",
       "      <td>-87.635707</td>\n",
       "      <td>...</td>\n",
       "      <td>casual</td>\n",
       "      <td>2022-06-30 23:59:19</td>\n",
       "      <td>2022-07-01 02:09:14</td>\n",
       "      <td>129</td>\n",
       "      <td>0.004817</td>\n",
       "      <td>2022-06-30</td>\n",
       "      <td>23:59:19</td>\n",
       "      <td>Wednesday</td>\n",
       "      <td>June</td>\n",
       "      <td>23</td>\n",
       "    </tr>\n",
       "    <tr>\n",
       "      <th>427682</th>\n",
       "      <td>2CD209F207D413AF</td>\n",
       "      <td>classic_bike</td>\n",
       "      <td>2022-06-30 23:59:35</td>\n",
       "      <td>2022-07-01 00:05:10</td>\n",
       "      <td>Dearborn St &amp; Monroe St</td>\n",
       "      <td>TA1305000006</td>\n",
       "      <td>State St &amp; Harrison St</td>\n",
       "      <td>SL-007</td>\n",
       "      <td>41.881320</td>\n",
       "      <td>-87.629521</td>\n",
       "      <td>...</td>\n",
       "      <td>casual</td>\n",
       "      <td>2022-06-30 23:59:35</td>\n",
       "      <td>2022-07-01 00:05:10</td>\n",
       "      <td>5</td>\n",
       "      <td>0.007488</td>\n",
       "      <td>2022-06-30</td>\n",
       "      <td>23:59:35</td>\n",
       "      <td>Wednesday</td>\n",
       "      <td>June</td>\n",
       "      <td>23</td>\n",
       "    </tr>\n",
       "    <tr>\n",
       "      <th>40206</th>\n",
       "      <td>B44E5830EDC1B0F9</td>\n",
       "      <td>classic_bike</td>\n",
       "      <td>2022-06-30 23:59:36</td>\n",
       "      <td>2022-07-01 00:20:10</td>\n",
       "      <td>Southport Ave &amp; Roscoe St</td>\n",
       "      <td>13071</td>\n",
       "      <td>Ravenswood Ave &amp; Lawrence Ave</td>\n",
       "      <td>TA1309000066</td>\n",
       "      <td>41.943739</td>\n",
       "      <td>-87.664020</td>\n",
       "      <td>...</td>\n",
       "      <td>casual</td>\n",
       "      <td>2022-06-30 23:59:36</td>\n",
       "      <td>2022-07-01 00:20:10</td>\n",
       "      <td>20</td>\n",
       "      <td>0.027332</td>\n",
       "      <td>2022-06-30</td>\n",
       "      <td>23:59:36</td>\n",
       "      <td>Wednesday</td>\n",
       "      <td>June</td>\n",
       "      <td>23</td>\n",
       "    </tr>\n",
       "    <tr>\n",
       "      <th>675689</th>\n",
       "      <td>7268745D55C36C22</td>\n",
       "      <td>classic_bike</td>\n",
       "      <td>2022-06-30 23:59:53</td>\n",
       "      <td>2022-07-01 00:05:27</td>\n",
       "      <td>Broadway &amp; Belmont Ave</td>\n",
       "      <td>13277</td>\n",
       "      <td>Clark St &amp; Newport St</td>\n",
       "      <td>632</td>\n",
       "      <td>41.940106</td>\n",
       "      <td>-87.645451</td>\n",
       "      <td>...</td>\n",
       "      <td>casual</td>\n",
       "      <td>2022-06-30 23:59:53</td>\n",
       "      <td>2022-07-01 00:05:27</td>\n",
       "      <td>5</td>\n",
       "      <td>0.010237</td>\n",
       "      <td>2022-06-30</td>\n",
       "      <td>23:59:53</td>\n",
       "      <td>Wednesday</td>\n",
       "      <td>June</td>\n",
       "      <td>23</td>\n",
       "    </tr>\n",
       "    <tr>\n",
       "      <th>673991</th>\n",
       "      <td>90994A72CEA06EED</td>\n",
       "      <td>electric_bike</td>\n",
       "      <td>2022-06-30 23:59:58</td>\n",
       "      <td>2022-07-01 02:09:19</td>\n",
       "      <td>Franklin St &amp; Chicago Ave</td>\n",
       "      <td>13017</td>\n",
       "      <td>Clark St &amp; Chicago Ave</td>\n",
       "      <td>13303</td>\n",
       "      <td>41.896774</td>\n",
       "      <td>-87.635595</td>\n",
       "      <td>...</td>\n",
       "      <td>casual</td>\n",
       "      <td>2022-06-30 23:59:58</td>\n",
       "      <td>2022-07-01 02:09:19</td>\n",
       "      <td>129</td>\n",
       "      <td>0.004705</td>\n",
       "      <td>2022-06-30</td>\n",
       "      <td>23:59:58</td>\n",
       "      <td>Wednesday</td>\n",
       "      <td>June</td>\n",
       "      <td>23</td>\n",
       "    </tr>\n",
       "  </tbody>\n",
       "</table>\n",
       "<p>4612376 rows × 22 columns</p>\n",
       "</div>"
      ],
      "text/plain": [
       "                 ride_id  rideable_type           started_at  \\\n",
       "678771  B68C8C61487B5C15   classic_bike  2021-07-01 00:00:30   \n",
       "433589  3FBF4B489DE3F24E    docked_bike  2021-07-01 00:00:42   \n",
       "247538  8A1D30385234151D   classic_bike  2021-07-01 00:00:47   \n",
       "782139  D5AA171FAE3335A7   classic_bike  2021-07-01 00:00:53   \n",
       "173982  D493F6B96A3117A2   classic_bike  2021-07-01 00:01:53   \n",
       "...                  ...            ...                  ...   \n",
       "673992  04386E078470EF49  electric_bike  2022-06-30 23:59:19   \n",
       "427682  2CD209F207D413AF   classic_bike  2022-06-30 23:59:35   \n",
       "40206   B44E5830EDC1B0F9   classic_bike  2022-06-30 23:59:36   \n",
       "675689  7268745D55C36C22   classic_bike  2022-06-30 23:59:53   \n",
       "673991  90994A72CEA06EED  electric_bike  2022-06-30 23:59:58   \n",
       "\n",
       "                   ended_at         start_station_name start_station_id  \\\n",
       "678771  2021-07-01 00:46:58  Bissell St & Armitage Ave            13059   \n",
       "433589  2021-07-01 00:10:25    Clark St & Winnemac Ave     TA1309000035   \n",
       "247538  2021-07-01 00:28:11     Michigan Ave & Lake St     TA1305000011   \n",
       "782139  2021-07-01 00:16:43     Wabash Ave & Wacker Pl     TA1307000131   \n",
       "173982  2021-07-01 00:14:40       Halsted St & 18th St            13099   \n",
       "...                     ...                        ...              ...   \n",
       "673992  2022-07-01 02:09:14  Franklin St & Chicago Ave            13017   \n",
       "427682  2022-07-01 00:05:10    Dearborn St & Monroe St     TA1305000006   \n",
       "40206   2022-07-01 00:20:10  Southport Ave & Roscoe St            13071   \n",
       "675689  2022-07-01 00:05:27     Broadway & Belmont Ave            13277   \n",
       "673991  2022-07-01 02:09:19  Franklin St & Chicago Ave            13017   \n",
       "\n",
       "                     end_station_name end_station_id  start_lat  start_lng  \\\n",
       "678771    Lincoln Ave & Diversey Pkwy   TA1307000064  41.918440 -87.652220   \n",
       "433589       Broadway & Thorndale Ave          15575  41.973348 -87.667855   \n",
       "247538         Wabash Ave & Wacker Pl   TA1307000131  41.886024 -87.624117   \n",
       "782139          Wells St & Concord Ln   TA1308000050  41.886875 -87.626030   \n",
       "173982            Morgan St & 31st St   TA1308000046  41.857499 -87.646277   \n",
       "...                               ...            ...        ...        ...   \n",
       "673992         Clark St & Chicago Ave          13303  41.896778 -87.635707   \n",
       "427682         State St & Harrison St         SL-007  41.881320 -87.629521   \n",
       "40206   Ravenswood Ave & Lawrence Ave   TA1309000066  41.943739 -87.664020   \n",
       "675689          Clark St & Newport St            632  41.940106 -87.645451   \n",
       "673991         Clark St & Chicago Ave          13303  41.896774 -87.635595   \n",
       "\n",
       "        ...  member_casual           startdate             enddate ride_len  \\\n",
       "678771  ...         casual 2021-07-01 00:00:30 2021-07-01 00:46:58       46   \n",
       "433589  ...         casual 2021-07-01 00:00:42 2021-07-01 00:10:25        9   \n",
       "247538  ...         casual 2021-07-01 00:00:47 2021-07-01 00:28:11       27   \n",
       "782139  ...         casual 2021-07-01 00:00:53 2021-07-01 00:16:43       15   \n",
       "173982  ...         casual 2021-07-01 00:01:53 2021-07-01 00:14:40       12   \n",
       "...     ...            ...                 ...                 ...      ...   \n",
       "673992  ...         casual 2022-06-30 23:59:19 2022-07-01 02:09:14      129   \n",
       "427682  ...         casual 2022-06-30 23:59:35 2022-07-01 00:05:10        5   \n",
       "40206   ...         casual 2022-06-30 23:59:36 2022-07-01 00:20:10       20   \n",
       "675689  ...         casual 2022-06-30 23:59:53 2022-07-01 00:05:27        5   \n",
       "673991  ...         casual 2022-06-30 23:59:58 2022-07-01 02:09:19      129   \n",
       "\n",
       "       trip_distance   startday  starttime    weekday Month Hour  \n",
       "678771      0.015197 2021-07-01   00:00:30  Wednesday  July    0  \n",
       "433589      0.018119 2021-07-01   00:00:42  Wednesday  July    0  \n",
       "247538      0.002094 2021-07-01   00:00:47  Wednesday  July    0  \n",
       "782139      0.026690 2021-07-01   00:00:53  Wednesday  July    0  \n",
       "173982      0.020290 2021-07-01   00:01:53  Wednesday  July    0  \n",
       "...              ...        ...        ...        ...   ...  ...  \n",
       "673992      0.004817 2022-06-30   23:59:19  Wednesday  June   23  \n",
       "427682      0.007488 2022-06-30   23:59:35  Wednesday  June   23  \n",
       "40206       0.027332 2022-06-30   23:59:36  Wednesday  June   23  \n",
       "675689      0.010237 2022-06-30   23:59:53  Wednesday  June   23  \n",
       "673991      0.004705 2022-06-30   23:59:58  Wednesday  June   23  \n",
       "\n",
       "[4612376 rows x 22 columns]"
      ]
     },
     "execution_count": 16,
     "metadata": {},
     "output_type": "execute_result"
    }
   ],
   "source": [
    "# sorting dataset by startdate column\n",
    "df.sort_values(by=['startdate'],inplace=True, ascending = True)\n",
    "df"
   ]
  },
  {
   "cell_type": "code",
   "execution_count": 17,
   "id": "9af645fa",
   "metadata": {
    "execution": {
     "iopub.execute_input": "2023-05-11T20:05:48.766119Z",
     "iopub.status.busy": "2023-05-11T20:05:48.765697Z",
     "iopub.status.idle": "2023-05-11T20:05:48.773991Z",
     "shell.execute_reply": "2023-05-11T20:05:48.772914Z"
    },
    "papermill": {
     "duration": 0.036734,
     "end_time": "2023-05-11T20:05:48.776856",
     "exception": false,
     "start_time": "2023-05-11T20:05:48.740122",
     "status": "completed"
    },
    "tags": []
   },
   "outputs": [
    {
     "data": {
      "text/plain": [
       "'/kaggle/working'"
      ]
     },
     "execution_count": 17,
     "metadata": {},
     "output_type": "execute_result"
    }
   ],
   "source": [
    "os.chdir('/kaggle/working') # to change directory\n",
    "p2=os.getcwd()\n",
    "p2"
   ]
  },
  {
   "cell_type": "code",
   "execution_count": 18,
   "id": "81b9f6b7",
   "metadata": {
    "execution": {
     "iopub.execute_input": "2023-05-11T20:05:48.826955Z",
     "iopub.status.busy": "2023-05-11T20:05:48.826540Z",
     "iopub.status.idle": "2023-05-11T20:08:27.998425Z",
     "shell.execute_reply": "2023-05-11T20:08:27.996774Z"
    },
    "papermill": {
     "duration": 159.200689,
     "end_time": "2023-05-11T20:08:28.001851",
     "exception": false,
     "start_time": "2023-05-11T20:05:48.801162",
     "status": "completed"
    },
    "tags": []
   },
   "outputs": [],
   "source": [
    "# Finally dataset has been cleaned and transformed and saved in csv as cleaned.csv file for further use\n",
    "df.to_csv('cleaned.csv',index=False)"
   ]
  },
  {
   "cell_type": "markdown",
   "id": "b79337e1",
   "metadata": {
    "papermill": {
     "duration": 0.023511,
     "end_time": "2023-05-11T20:08:28.049538",
     "exception": false,
     "start_time": "2023-05-11T20:08:28.026027",
     "status": "completed"
    },
    "tags": []
   },
   "source": [
    "4. **Analyze the data**\n",
    "\n",
    "Like a detective, a data analyst find the hidden meanings and insights that data tells to draw conclusion and make data driven decisions.\n",
    "\n",
    "   **Total Trips Taken**\n",
    "\n",
    "Total number of trips collectively taken by casual and member riders are calculated as given below"
   ]
  },
  {
   "cell_type": "code",
   "execution_count": 19,
   "id": "2e1252c8",
   "metadata": {
    "execution": {
     "iopub.execute_input": "2023-05-11T20:08:28.099477Z",
     "iopub.status.busy": "2023-05-11T20:08:28.099031Z",
     "iopub.status.idle": "2023-05-11T20:08:29.443966Z",
     "shell.execute_reply": "2023-05-11T20:08:29.442504Z"
    },
    "papermill": {
     "duration": 1.373521,
     "end_time": "2023-05-11T20:08:29.446823",
     "exception": false,
     "start_time": "2023-05-11T20:08:28.073302",
     "status": "completed"
    },
    "tags": []
   },
   "outputs": [
    {
     "data": {
      "text/plain": [
       "member_casual\n",
       "casual    1984174\n",
       "member    2628202\n",
       "Name: ride_id, dtype: int64"
      ]
     },
     "execution_count": 19,
     "metadata": {},
     "output_type": "execute_result"
    }
   ],
   "source": [
    "new=df.groupby(\"member_casual\")[\"ride_id\"].count()\n",
    "\n",
    "new"
   ]
  },
  {
   "attachments": {
    "aa965fe3-a1eb-4ab5-81a4-bd36e941445a.png": {
     "image/png": "[encoded data removed]"
    }
   },
   "cell_type": "markdown",
   "id": "fb5f8b1e",
   "metadata": {
    "papermill": {
     "duration": 0.023736,
     "end_time": "2023-05-11T20:08:29.495367",
     "exception": false,
     "start_time": "2023-05-11T20:08:29.471631",
     "status": "completed"
    },
    "tags": []
   },
   "source": [
    "![image.png](attachment:aa965fe3-a1eb-4ab5-81a4-bd36e941445a.png)"
   ]
  },
  {
   "cell_type": "markdown",
   "id": "4fa8f298",
   "metadata": {
    "papermill": {
     "duration": 0.024105,
     "end_time": "2023-05-11T20:08:29.543486",
     "exception": false,
     "start_time": "2023-05-11T20:08:29.519381",
     "status": "completed"
    },
    "tags": []
   },
   "source": [
    "Casual users took the total trips of count 1.98 millions with the percentage of 43.4% whereas members recorded total trips of count 2.62 millions with the percentage of 56.57%."
   ]
  },
  {
   "cell_type": "markdown",
   "id": "a5cfefa6",
   "metadata": {
    "papermill": {
     "duration": 0.023593,
     "end_time": "2023-05-11T20:08:29.591698",
     "exception": false,
     "start_time": "2023-05-11T20:08:29.568105",
     "status": "completed"
    },
    "tags": []
   },
   "source": [
    "**Total Trips on each type of bike**"
   ]
  },
  {
   "cell_type": "markdown",
   "id": "a1758628",
   "metadata": {
    "papermill": {
     "duration": 0.023322,
     "end_time": "2023-05-11T20:08:29.638734",
     "exception": false,
     "start_time": "2023-05-11T20:08:29.615412",
     "status": "completed"
    },
    "tags": []
   },
   "source": [
    "\n",
    "Cyclistic has a 3 different types of bicycles. They can be categorized as classic, docked, and electric. The bar chart below shows the total number of trips each user took on the three different types of bicycles.\n",
    "Statistics shows that casual users took total % rides on classic bikes, % on docked bikes and % on electric bikes whereas members took total % rides on classic and % on electric bikes."
   ]
  },
  {
   "cell_type": "code",
   "execution_count": 20,
   "id": "cc1bc24d",
   "metadata": {
    "execution": {
     "iopub.execute_input": "2023-05-11T20:08:29.688731Z",
     "iopub.status.busy": "2023-05-11T20:08:29.688303Z",
     "iopub.status.idle": "2023-05-11T20:08:35.383079Z",
     "shell.execute_reply": "2023-05-11T20:08:35.381738Z"
    },
    "papermill": {
     "duration": 5.723551,
     "end_time": "2023-05-11T20:08:35.386275",
     "exception": false,
     "start_time": "2023-05-11T20:08:29.662724",
     "status": "completed"
    },
    "tags": []
   },
   "outputs": [
    {
     "data": {
      "text/html": [
       "<div>\n",
       "<style scoped>\n",
       "    .dataframe tbody tr th:only-of-type {\n",
       "        vertical-align: middle;\n",
       "    }\n",
       "\n",
       "    .dataframe tbody tr th {\n",
       "        vertical-align: top;\n",
       "    }\n",
       "\n",
       "    .dataframe thead th {\n",
       "        text-align: right;\n",
       "    }\n",
       "</style>\n",
       "<table border=\"1\" class=\"dataframe\">\n",
       "  <thead>\n",
       "    <tr style=\"text-align: right;\">\n",
       "      <th>rideable_type</th>\n",
       "      <th>classic_bike</th>\n",
       "      <th>docked_bike</th>\n",
       "      <th>electric_bike</th>\n",
       "    </tr>\n",
       "    <tr>\n",
       "      <th>member_casual</th>\n",
       "      <th></th>\n",
       "      <th></th>\n",
       "      <th></th>\n",
       "    </tr>\n",
       "  </thead>\n",
       "  <tbody>\n",
       "    <tr>\n",
       "      <th>casual</th>\n",
       "      <td>1199965</td>\n",
       "      <td>250439</td>\n",
       "      <td>533770</td>\n",
       "    </tr>\n",
       "    <tr>\n",
       "      <th>member</th>\n",
       "      <td>1938964</td>\n",
       "      <td>0</td>\n",
       "      <td>689238</td>\n",
       "    </tr>\n",
       "  </tbody>\n",
       "</table>\n",
       "</div>"
      ],
      "text/plain": [
       "rideable_type  classic_bike  docked_bike  electric_bike\n",
       "member_casual                                          \n",
       "casual              1199965       250439         533770\n",
       "member              1938964            0         689238"
      ]
     },
     "execution_count": 20,
     "metadata": {},
     "output_type": "execute_result"
    }
   ],
   "source": [
    "biketypes=pd.pivot_table(df, values ='ride_id', index ='member_casual',\n",
    "                         columns =['rideable_type'], aggfunc = 'count', fill_value=0)\n",
    "biketypes"
   ]
  },
  {
   "attachments": {
    "ad1943f5-4bbc-4891-a87f-23300bc32bd3.png": {
     "image/png": "[encoded data removed]"
    }
   },
   "cell_type": "markdown",
   "id": "bfd79582",
   "metadata": {
    "papermill": {
     "duration": 0.023606,
     "end_time": "2023-05-11T20:08:35.434002",
     "exception": false,
     "start_time": "2023-05-11T20:08:35.410396",
     "status": "completed"
    },
    "tags": []
   },
   "source": [
    "![image.png](attachment:ad1943f5-4bbc-4891-a87f-23300bc32bd3.png)"
   ]
  },
  {
   "cell_type": "markdown",
   "id": "59ed9795",
   "metadata": {
    "papermill": {
     "duration": 0.023654,
     "end_time": "2023-05-11T20:08:35.481708",
     "exception": false,
     "start_time": "2023-05-11T20:08:35.458054",
     "status": "completed"
    },
    "tags": []
   },
   "source": [
    "**Trips taken in Week**"
   ]
  },
  {
   "cell_type": "code",
   "execution_count": 21,
   "id": "d59d4838",
   "metadata": {
    "execution": {
     "iopub.execute_input": "2023-05-11T20:08:35.531831Z",
     "iopub.status.busy": "2023-05-11T20:08:35.531413Z",
     "iopub.status.idle": "2023-05-11T20:08:37.451683Z",
     "shell.execute_reply": "2023-05-11T20:08:37.450363Z"
    },
    "papermill": {
     "duration": 1.948979,
     "end_time": "2023-05-11T20:08:37.454649",
     "exception": false,
     "start_time": "2023-05-11T20:08:35.505670",
     "status": "completed"
    },
    "tags": []
   },
   "outputs": [
    {
     "data": {
      "text/html": [
       "<div>\n",
       "<style scoped>\n",
       "    .dataframe tbody tr th:only-of-type {\n",
       "        vertical-align: middle;\n",
       "    }\n",
       "\n",
       "    .dataframe tbody tr th {\n",
       "        vertical-align: top;\n",
       "    }\n",
       "\n",
       "    .dataframe thead th {\n",
       "        text-align: right;\n",
       "    }\n",
       "</style>\n",
       "<table border=\"1\" class=\"dataframe\">\n",
       "  <thead>\n",
       "    <tr style=\"text-align: right;\">\n",
       "      <th>member_casual</th>\n",
       "      <th>casual</th>\n",
       "      <th>member</th>\n",
       "    </tr>\n",
       "    <tr>\n",
       "      <th>weekday</th>\n",
       "      <th></th>\n",
       "      <th></th>\n",
       "    </tr>\n",
       "  </thead>\n",
       "  <tbody>\n",
       "    <tr>\n",
       "      <th>Sunday</th>\n",
       "      <td>233055</td>\n",
       "      <td>370975</td>\n",
       "    </tr>\n",
       "    <tr>\n",
       "      <th>Monday</th>\n",
       "      <td>207517</td>\n",
       "      <td>411816</td>\n",
       "    </tr>\n",
       "    <tr>\n",
       "      <th>Tuesday</th>\n",
       "      <td>213729</td>\n",
       "      <td>410411</td>\n",
       "    </tr>\n",
       "    <tr>\n",
       "      <th>Wednesday</th>\n",
       "      <td>245569</td>\n",
       "      <td>414315</td>\n",
       "    </tr>\n",
       "    <tr>\n",
       "      <th>Thursday</th>\n",
       "      <td>277541</td>\n",
       "      <td>364767</td>\n",
       "    </tr>\n",
       "    <tr>\n",
       "      <th>Friday</th>\n",
       "      <td>432138</td>\n",
       "      <td>345780</td>\n",
       "    </tr>\n",
       "    <tr>\n",
       "      <th>Saturday</th>\n",
       "      <td>374625</td>\n",
       "      <td>310138</td>\n",
       "    </tr>\n",
       "  </tbody>\n",
       "</table>\n",
       "</div>"
      ],
      "text/plain": [
       "member_casual  casual  member\n",
       "weekday                      \n",
       "Sunday         233055  370975\n",
       "Monday         207517  411816\n",
       "Tuesday        213729  410411\n",
       "Wednesday      245569  414315\n",
       "Thursday       277541  364767\n",
       "Friday         432138  345780\n",
       "Saturday       374625  310138"
      ]
     },
     "execution_count": 21,
     "metadata": {},
     "output_type": "execute_result"
    }
   ],
   "source": [
    "rides_per_week=pd.pivot_table(df, values ='ride_id', index ='weekday',\n",
    "                         columns =['member_casual'], aggfunc = 'count').sort_values(by=['weekday'])\n",
    "rides_per_week"
   ]
  },
  {
   "attachments": {
    "4b131480-1890-4065-ad2e-af8c7b3ae09f.png": {
     "image/png": "[encoded data removed]"
    }
   },
   "cell_type": "markdown",
   "id": "d57b0f0f",
   "metadata": {
    "papermill": {
     "duration": 0.023818,
     "end_time": "2023-05-11T20:08:37.502951",
     "exception": false,
     "start_time": "2023-05-11T20:08:37.479133",
     "status": "completed"
    },
    "tags": []
   },
   "source": [
    "![image.png](attachment:4b131480-1890-4065-ad2e-af8c7b3ae09f.png)"
   ]
  },
  {
   "cell_type": "markdown",
   "id": "d3dd594a",
   "metadata": {
    "papermill": {
     "duration": 0.023873,
     "end_time": "2023-05-11T20:08:37.551417",
     "exception": false,
     "start_time": "2023-05-11T20:08:37.527544",
     "status": "completed"
    },
    "tags": []
   },
   "source": [
    "**Trips taken in Day**"
   ]
  },
  {
   "cell_type": "code",
   "execution_count": 22,
   "id": "f15387a9",
   "metadata": {
    "execution": {
     "iopub.execute_input": "2023-05-11T20:08:37.602517Z",
     "iopub.status.busy": "2023-05-11T20:08:37.602081Z",
     "iopub.status.idle": "2023-05-11T20:08:39.584382Z",
     "shell.execute_reply": "2023-05-11T20:08:39.583305Z"
    },
    "papermill": {
     "duration": 2.011595,
     "end_time": "2023-05-11T20:08:39.587198",
     "exception": false,
     "start_time": "2023-05-11T20:08:37.575603",
     "status": "completed"
    },
    "tags": []
   },
   "outputs": [
    {
     "data": {
      "text/html": [
       "<div>\n",
       "<style scoped>\n",
       "    .dataframe tbody tr th:only-of-type {\n",
       "        vertical-align: middle;\n",
       "    }\n",
       "\n",
       "    .dataframe tbody tr th {\n",
       "        vertical-align: top;\n",
       "    }\n",
       "\n",
       "    .dataframe thead th {\n",
       "        text-align: right;\n",
       "    }\n",
       "</style>\n",
       "<table border=\"1\" class=\"dataframe\">\n",
       "  <thead>\n",
       "    <tr style=\"text-align: right;\">\n",
       "      <th>member_casual</th>\n",
       "      <th>casual</th>\n",
       "      <th>member</th>\n",
       "    </tr>\n",
       "    <tr>\n",
       "      <th>Hour</th>\n",
       "      <th></th>\n",
       "      <th></th>\n",
       "    </tr>\n",
       "  </thead>\n",
       "  <tbody>\n",
       "    <tr>\n",
       "      <th>0</th>\n",
       "      <td>38896</td>\n",
       "      <td>25705</td>\n",
       "    </tr>\n",
       "    <tr>\n",
       "      <th>1</th>\n",
       "      <td>27259</td>\n",
       "      <td>16386</td>\n",
       "    </tr>\n",
       "    <tr>\n",
       "      <th>2</th>\n",
       "      <td>17545</td>\n",
       "      <td>9172</td>\n",
       "    </tr>\n",
       "    <tr>\n",
       "      <th>3</th>\n",
       "      <td>9382</td>\n",
       "      <td>5376</td>\n",
       "    </tr>\n",
       "    <tr>\n",
       "      <th>4</th>\n",
       "      <td>6152</td>\n",
       "      <td>6376</td>\n",
       "    </tr>\n",
       "    <tr>\n",
       "      <th>5</th>\n",
       "      <td>9194</td>\n",
       "      <td>27622</td>\n",
       "    </tr>\n",
       "    <tr>\n",
       "      <th>6</th>\n",
       "      <td>20830</td>\n",
       "      <td>76081</td>\n",
       "    </tr>\n",
       "    <tr>\n",
       "      <th>7</th>\n",
       "      <td>39164</td>\n",
       "      <td>143240</td>\n",
       "    </tr>\n",
       "    <tr>\n",
       "      <th>8</th>\n",
       "      <td>53034</td>\n",
       "      <td>167320</td>\n",
       "    </tr>\n",
       "    <tr>\n",
       "      <th>9</th>\n",
       "      <td>60934</td>\n",
       "      <td>114022</td>\n",
       "    </tr>\n",
       "    <tr>\n",
       "      <th>10</th>\n",
       "      <td>83275</td>\n",
       "      <td>106636</td>\n",
       "    </tr>\n",
       "    <tr>\n",
       "      <th>11</th>\n",
       "      <td>109694</td>\n",
       "      <td>128471</td>\n",
       "    </tr>\n",
       "    <tr>\n",
       "      <th>12</th>\n",
       "      <td>127618</td>\n",
       "      <td>147347</td>\n",
       "    </tr>\n",
       "    <tr>\n",
       "      <th>13</th>\n",
       "      <td>134377</td>\n",
       "      <td>143014</td>\n",
       "    </tr>\n",
       "    <tr>\n",
       "      <th>14</th>\n",
       "      <td>138559</td>\n",
       "      <td>141062</td>\n",
       "    </tr>\n",
       "    <tr>\n",
       "      <th>15</th>\n",
       "      <td>149316</td>\n",
       "      <td>168580</td>\n",
       "    </tr>\n",
       "    <tr>\n",
       "      <th>16</th>\n",
       "      <td>164097</td>\n",
       "      <td>228044</td>\n",
       "    </tr>\n",
       "    <tr>\n",
       "      <th>17</th>\n",
       "      <td>189662</td>\n",
       "      <td>284025</td>\n",
       "    </tr>\n",
       "    <tr>\n",
       "      <th>18</th>\n",
       "      <td>171069</td>\n",
       "      <td>230214</td>\n",
       "    </tr>\n",
       "    <tr>\n",
       "      <th>19</th>\n",
       "      <td>130060</td>\n",
       "      <td>161850</td>\n",
       "    </tr>\n",
       "    <tr>\n",
       "      <th>20</th>\n",
       "      <td>93862</td>\n",
       "      <td>109788</td>\n",
       "    </tr>\n",
       "    <tr>\n",
       "      <th>21</th>\n",
       "      <td>80244</td>\n",
       "      <td>83235</td>\n",
       "    </tr>\n",
       "    <tr>\n",
       "      <th>22</th>\n",
       "      <td>74140</td>\n",
       "      <td>62944</td>\n",
       "    </tr>\n",
       "    <tr>\n",
       "      <th>23</th>\n",
       "      <td>55811</td>\n",
       "      <td>41692</td>\n",
       "    </tr>\n",
       "  </tbody>\n",
       "</table>\n",
       "</div>"
      ],
      "text/plain": [
       "member_casual  casual  member\n",
       "Hour                         \n",
       "0               38896   25705\n",
       "1               27259   16386\n",
       "2               17545    9172\n",
       "3                9382    5376\n",
       "4                6152    6376\n",
       "5                9194   27622\n",
       "6               20830   76081\n",
       "7               39164  143240\n",
       "8               53034  167320\n",
       "9               60934  114022\n",
       "10              83275  106636\n",
       "11             109694  128471\n",
       "12             127618  147347\n",
       "13             134377  143014\n",
       "14             138559  141062\n",
       "15             149316  168580\n",
       "16             164097  228044\n",
       "17             189662  284025\n",
       "18             171069  230214\n",
       "19             130060  161850\n",
       "20              93862  109788\n",
       "21              80244   83235\n",
       "22              74140   62944\n",
       "23              55811   41692"
      ]
     },
     "execution_count": 22,
     "metadata": {},
     "output_type": "execute_result"
    }
   ],
   "source": [
    "rides_per_hour=pd.pivot_table(df, values ='ride_id', index ='Hour',\n",
    "                         columns =['member_casual'], aggfunc = 'count').sort_values(by=['Hour'])\n",
    "rides_per_hour"
   ]
  },
  {
   "attachments": {
    "998face0-11e1-4f49-a551-50c6859b8584.png": {
     "image/png": "[encoded data removed]"
    }
   },
   "cell_type": "markdown",
   "id": "5bb48ceb",
   "metadata": {
    "papermill": {
     "duration": 0.024519,
     "end_time": "2023-05-11T20:08:39.636486",
     "exception": false,
     "start_time": "2023-05-11T20:08:39.611967",
     "status": "completed"
    },
    "tags": []
   },
   "source": [
    "![image.png](attachment:998face0-11e1-4f49-a551-50c6859b8584.png)"
   ]
  },
  {
   "cell_type": "markdown",
   "id": "a8f9f830",
   "metadata": {
    "papermill": {
     "duration": 0.024302,
     "end_time": "2023-05-11T20:08:39.685385",
     "exception": false,
     "start_time": "2023-05-11T20:08:39.661083",
     "status": "completed"
    },
    "tags": []
   },
   "source": [
    "**Trips taken in Year**"
   ]
  },
  {
   "cell_type": "code",
   "execution_count": 23,
   "id": "2bb460e0",
   "metadata": {
    "execution": {
     "iopub.execute_input": "2023-05-11T20:08:39.737652Z",
     "iopub.status.busy": "2023-05-11T20:08:39.737165Z",
     "iopub.status.idle": "2023-05-11T20:08:41.654858Z",
     "shell.execute_reply": "2023-05-11T20:08:41.653273Z"
    },
    "papermill": {
     "duration": 1.94742,
     "end_time": "2023-05-11T20:08:41.658175",
     "exception": false,
     "start_time": "2023-05-11T20:08:39.710755",
     "status": "completed"
    },
    "tags": []
   },
   "outputs": [
    {
     "data": {
      "text/html": [
       "<div>\n",
       "<style scoped>\n",
       "    .dataframe tbody tr th:only-of-type {\n",
       "        vertical-align: middle;\n",
       "    }\n",
       "\n",
       "    .dataframe tbody tr th {\n",
       "        vertical-align: top;\n",
       "    }\n",
       "\n",
       "    .dataframe thead th {\n",
       "        text-align: right;\n",
       "    }\n",
       "</style>\n",
       "<table border=\"1\" class=\"dataframe\">\n",
       "  <thead>\n",
       "    <tr style=\"text-align: right;\">\n",
       "      <th>member_casual</th>\n",
       "      <th>casual</th>\n",
       "      <th>member</th>\n",
       "    </tr>\n",
       "    <tr>\n",
       "      <th>Month</th>\n",
       "      <th></th>\n",
       "      <th></th>\n",
       "    </tr>\n",
       "  </thead>\n",
       "  <tbody>\n",
       "    <tr>\n",
       "      <th>Jan</th>\n",
       "      <td>12481</td>\n",
       "      <td>66575</td>\n",
       "    </tr>\n",
       "    <tr>\n",
       "      <th>Feb</th>\n",
       "      <td>14973</td>\n",
       "      <td>72683</td>\n",
       "    </tr>\n",
       "    <tr>\n",
       "      <th>Mar</th>\n",
       "      <td>66409</td>\n",
       "      <td>146497</td>\n",
       "    </tr>\n",
       "    <tr>\n",
       "      <th>Apr</th>\n",
       "      <td>90816</td>\n",
       "      <td>177723</td>\n",
       "    </tr>\n",
       "    <tr>\n",
       "      <th>May</th>\n",
       "      <td>216938</td>\n",
       "      <td>277162</td>\n",
       "    </tr>\n",
       "    <tr>\n",
       "      <th>June</th>\n",
       "      <td>287553</td>\n",
       "      <td>322256</td>\n",
       "    </tr>\n",
       "    <tr>\n",
       "      <th>July</th>\n",
       "      <td>365513</td>\n",
       "      <td>317690</td>\n",
       "    </tr>\n",
       "    <tr>\n",
       "      <th>Aug</th>\n",
       "      <td>338138</td>\n",
       "      <td>327946</td>\n",
       "    </tr>\n",
       "    <tr>\n",
       "      <th>Sep</th>\n",
       "      <td>290078</td>\n",
       "      <td>323287</td>\n",
       "    </tr>\n",
       "    <tr>\n",
       "      <th>Oct</th>\n",
       "      <td>187324</td>\n",
       "      <td>284140</td>\n",
       "    </tr>\n",
       "    <tr>\n",
       "      <th>Nov</th>\n",
       "      <td>69267</td>\n",
       "      <td>182922</td>\n",
       "    </tr>\n",
       "    <tr>\n",
       "      <th>Dec</th>\n",
       "      <td>44684</td>\n",
       "      <td>129321</td>\n",
       "    </tr>\n",
       "  </tbody>\n",
       "</table>\n",
       "</div>"
      ],
      "text/plain": [
       "member_casual  casual  member\n",
       "Month                        \n",
       "Jan             12481   66575\n",
       "Feb             14973   72683\n",
       "Mar             66409  146497\n",
       "Apr             90816  177723\n",
       "May            216938  277162\n",
       "June           287553  322256\n",
       "July           365513  317690\n",
       "Aug            338138  327946\n",
       "Sep            290078  323287\n",
       "Oct            187324  284140\n",
       "Nov             69267  182922\n",
       "Dec             44684  129321"
      ]
     },
     "execution_count": 23,
     "metadata": {},
     "output_type": "execute_result"
    }
   ],
   "source": [
    "rides_per_month=pd.pivot_table(df, values ='ride_id', index ='Month',\n",
    "                         columns =['member_casual'], aggfunc = 'count').sort_values(by=['Month'])\n",
    "rides_per_month"
   ]
  },
  {
   "attachments": {
    "d1b1dc93-a9f3-4df3-aabd-3947e73cbf47.png": {
     "image/png": "[encoded data removed]"
    }
   },
   "cell_type": "markdown",
   "id": "524454d5",
   "metadata": {
    "papermill": {
     "duration": 0.025691,
     "end_time": "2023-05-11T20:08:41.711061",
     "exception": false,
     "start_time": "2023-05-11T20:08:41.685370",
     "status": "completed"
    },
    "tags": []
   },
   "source": [
    "![image.png](attachment:d1b1dc93-a9f3-4df3-aabd-3947e73cbf47.png)"
   ]
  },
  {
   "cell_type": "markdown",
   "id": "040ef851",
   "metadata": {
    "papermill": {
     "duration": 0.025449,
     "end_time": "2023-05-11T20:08:41.762374",
     "exception": false,
     "start_time": "2023-05-11T20:08:41.736925",
     "status": "completed"
    },
    "tags": []
   },
   "source": [
    "**Trips duration of each user type**"
   ]
  },
  {
   "cell_type": "code",
   "execution_count": 24,
   "id": "62a1de9b",
   "metadata": {
    "execution": {
     "iopub.execute_input": "2023-05-11T20:08:41.818890Z",
     "iopub.status.busy": "2023-05-11T20:08:41.818018Z",
     "iopub.status.idle": "2023-05-11T20:08:42.354584Z",
     "shell.execute_reply": "2023-05-11T20:08:42.353278Z"
    },
    "papermill": {
     "duration": 0.568618,
     "end_time": "2023-05-11T20:08:42.357482",
     "exception": false,
     "start_time": "2023-05-11T20:08:41.788864",
     "status": "completed"
    },
    "tags": []
   },
   "outputs": [
    {
     "data": {
      "text/plain": [
       "member_casual\n",
       "casual    27.914139\n",
       "member    12.344352\n",
       "Name: ride_len, dtype: float64"
      ]
     },
     "execution_count": 24,
     "metadata": {},
     "output_type": "execute_result"
    }
   ],
   "source": [
    "rides_per_ridelen = df.groupby(\"member_casual\")[\"ride_len\"].mean()\n",
    "rides_per_ridelen"
   ]
  },
  {
   "attachments": {
    "a91e6162-5f7b-43aa-85bc-e39496ccea1c.png": {
     "image/png": "[encoded data removed]"
    }
   },
   "cell_type": "markdown",
   "id": "2a932ec8",
   "metadata": {
    "papermill": {
     "duration": 0.02497,
     "end_time": "2023-05-11T20:08:42.407854",
     "exception": false,
     "start_time": "2023-05-11T20:08:42.382884",
     "status": "completed"
    },
    "tags": []
   },
   "source": [
    "![image.png](attachment:a91e6162-5f7b-43aa-85bc-e39496ccea1c.png)"
   ]
  },
  {
   "cell_type": "markdown",
   "id": "a2959d0c",
   "metadata": {
    "papermill": {
     "duration": 0.025132,
     "end_time": "2023-05-11T20:08:42.458324",
     "exception": false,
     "start_time": "2023-05-11T20:08:42.433192",
     "status": "completed"
    },
    "tags": []
   },
   "source": [
    "**Trips duration in Week**"
   ]
  },
  {
   "cell_type": "code",
   "execution_count": 25,
   "id": "5a0576e6",
   "metadata": {
    "execution": {
     "iopub.execute_input": "2023-05-11T20:08:42.511912Z",
     "iopub.status.busy": "2023-05-11T20:08:42.511205Z",
     "iopub.status.idle": "2023-05-11T20:08:43.308488Z",
     "shell.execute_reply": "2023-05-11T20:08:43.307330Z"
    },
    "papermill": {
     "duration": 0.827569,
     "end_time": "2023-05-11T20:08:43.311459",
     "exception": false,
     "start_time": "2023-05-11T20:08:42.483890",
     "status": "completed"
    },
    "tags": []
   },
   "outputs": [
    {
     "data": {
      "text/html": [
       "<div>\n",
       "<style scoped>\n",
       "    .dataframe tbody tr th:only-of-type {\n",
       "        vertical-align: middle;\n",
       "    }\n",
       "\n",
       "    .dataframe tbody tr th {\n",
       "        vertical-align: top;\n",
       "    }\n",
       "\n",
       "    .dataframe thead th {\n",
       "        text-align: right;\n",
       "    }\n",
       "</style>\n",
       "<table border=\"1\" class=\"dataframe\">\n",
       "  <thead>\n",
       "    <tr style=\"text-align: right;\">\n",
       "      <th>member_casual</th>\n",
       "      <th>casual</th>\n",
       "      <th>member</th>\n",
       "    </tr>\n",
       "    <tr>\n",
       "      <th>weekday</th>\n",
       "      <th></th>\n",
       "      <th></th>\n",
       "    </tr>\n",
       "  </thead>\n",
       "  <tbody>\n",
       "    <tr>\n",
       "      <th>Sunday</th>\n",
       "      <td>29.215198</td>\n",
       "      <td>11.958194</td>\n",
       "    </tr>\n",
       "    <tr>\n",
       "      <th>Monday</th>\n",
       "      <td>23.961025</td>\n",
       "      <td>11.466818</td>\n",
       "    </tr>\n",
       "    <tr>\n",
       "      <th>Tuesday</th>\n",
       "      <td>23.812150</td>\n",
       "      <td>11.622266</td>\n",
       "    </tr>\n",
       "    <tr>\n",
       "      <th>Wednesday</th>\n",
       "      <td>24.999707</td>\n",
       "      <td>11.796261</td>\n",
       "    </tr>\n",
       "    <tr>\n",
       "      <th>Thursday</th>\n",
       "      <td>26.133721</td>\n",
       "      <td>12.049207</td>\n",
       "    </tr>\n",
       "    <tr>\n",
       "      <th>Friday</th>\n",
       "      <td>30.433234</td>\n",
       "      <td>13.996975</td>\n",
       "    </tr>\n",
       "    <tr>\n",
       "      <th>Saturday</th>\n",
       "      <td>31.958369</td>\n",
       "      <td>14.163821</td>\n",
       "    </tr>\n",
       "  </tbody>\n",
       "</table>\n",
       "</div>"
      ],
      "text/plain": [
       "member_casual     casual     member\n",
       "weekday                            \n",
       "Sunday         29.215198  11.958194\n",
       "Monday         23.961025  11.466818\n",
       "Tuesday        23.812150  11.622266\n",
       "Wednesday      24.999707  11.796261\n",
       "Thursday       26.133721  12.049207\n",
       "Friday         30.433234  13.996975\n",
       "Saturday       31.958369  14.163821"
      ]
     },
     "execution_count": 25,
     "metadata": {},
     "output_type": "execute_result"
    }
   ],
   "source": [
    "rides_per_ridelen=pd.pivot_table(df, values ='ride_len', index ='weekday',\n",
    "                         columns =['member_casual'],aggfunc = 'mean').sort_values(by=['weekday'])\n",
    "rides_per_ridelen"
   ]
  },
  {
   "attachments": {
    "29f3e9b9-df1a-4d91-a5c9-189ec7b8dc47.png": {
     "image/png": "[encoded data removed]"
    }
   },
   "cell_type": "markdown",
   "id": "8d4d22f9",
   "metadata": {
    "papermill": {
     "duration": 0.025385,
     "end_time": "2023-05-11T20:08:43.362494",
     "exception": false,
     "start_time": "2023-05-11T20:08:43.337109",
     "status": "completed"
    },
    "tags": []
   },
   "source": [
    "![image.png](attachment:29f3e9b9-df1a-4d91-a5c9-189ec7b8dc47.png)"
   ]
  },
  {
   "cell_type": "markdown",
   "id": "2fffff96",
   "metadata": {
    "papermill": {
     "duration": 0.025204,
     "end_time": "2023-05-11T20:08:43.413358",
     "exception": false,
     "start_time": "2023-05-11T20:08:43.388154",
     "status": "completed"
    },
    "tags": []
   },
   "source": [
    "**Trips duration in Year**"
   ]
  },
  {
   "cell_type": "code",
   "execution_count": 26,
   "id": "dce80387",
   "metadata": {
    "execution": {
     "iopub.execute_input": "2023-05-11T20:08:43.466500Z",
     "iopub.status.busy": "2023-05-11T20:08:43.466061Z",
     "iopub.status.idle": "2023-05-11T20:08:44.266885Z",
     "shell.execute_reply": "2023-05-11T20:08:44.265392Z"
    },
    "papermill": {
     "duration": 0.831194,
     "end_time": "2023-05-11T20:08:44.270012",
     "exception": false,
     "start_time": "2023-05-11T20:08:43.438818",
     "status": "completed"
    },
    "tags": []
   },
   "outputs": [
    {
     "data": {
      "text/html": [
       "<div>\n",
       "<style scoped>\n",
       "    .dataframe tbody tr th:only-of-type {\n",
       "        vertical-align: middle;\n",
       "    }\n",
       "\n",
       "    .dataframe tbody tr th {\n",
       "        vertical-align: top;\n",
       "    }\n",
       "\n",
       "    .dataframe thead th {\n",
       "        text-align: right;\n",
       "    }\n",
       "</style>\n",
       "<table border=\"1\" class=\"dataframe\">\n",
       "  <thead>\n",
       "    <tr style=\"text-align: right;\">\n",
       "      <th>member_casual</th>\n",
       "      <th>casual</th>\n",
       "      <th>member</th>\n",
       "    </tr>\n",
       "    <tr>\n",
       "      <th>Month</th>\n",
       "      <th></th>\n",
       "      <th></th>\n",
       "    </tr>\n",
       "  </thead>\n",
       "  <tbody>\n",
       "    <tr>\n",
       "      <th>Jan</th>\n",
       "      <td>27.131560</td>\n",
       "      <td>9.917807</td>\n",
       "    </tr>\n",
       "    <tr>\n",
       "      <th>Feb</th>\n",
       "      <td>24.608896</td>\n",
       "      <td>10.344689</td>\n",
       "    </tr>\n",
       "    <tr>\n",
       "      <th>Mar</th>\n",
       "      <td>28.261169</td>\n",
       "      <td>11.485559</td>\n",
       "    </tr>\n",
       "    <tr>\n",
       "      <th>Apr</th>\n",
       "      <td>25.759899</td>\n",
       "      <td>11.303472</td>\n",
       "    </tr>\n",
       "    <tr>\n",
       "      <th>May</th>\n",
       "      <td>27.629867</td>\n",
       "      <td>13.049054</td>\n",
       "    </tr>\n",
       "    <tr>\n",
       "      <th>June</th>\n",
       "      <td>24.913992</td>\n",
       "      <td>13.440656</td>\n",
       "    </tr>\n",
       "    <tr>\n",
       "      <th>July</th>\n",
       "      <td>33.143634</td>\n",
       "      <td>13.519651</td>\n",
       "    </tr>\n",
       "    <tr>\n",
       "      <th>Aug</th>\n",
       "      <td>28.350650</td>\n",
       "      <td>13.261491</td>\n",
       "    </tr>\n",
       "    <tr>\n",
       "      <th>Sep</th>\n",
       "      <td>27.868973</td>\n",
       "      <td>12.833021</td>\n",
       "    </tr>\n",
       "    <tr>\n",
       "      <th>Oct</th>\n",
       "      <td>26.070541</td>\n",
       "      <td>11.716369</td>\n",
       "    </tr>\n",
       "    <tr>\n",
       "      <th>Nov</th>\n",
       "      <td>22.213262</td>\n",
       "      <td>10.631936</td>\n",
       "    </tr>\n",
       "    <tr>\n",
       "      <th>Dec</th>\n",
       "      <td>24.568548</td>\n",
       "      <td>10.245853</td>\n",
       "    </tr>\n",
       "  </tbody>\n",
       "</table>\n",
       "</div>"
      ],
      "text/plain": [
       "member_casual     casual     member\n",
       "Month                              \n",
       "Jan            27.131560   9.917807\n",
       "Feb            24.608896  10.344689\n",
       "Mar            28.261169  11.485559\n",
       "Apr            25.759899  11.303472\n",
       "May            27.629867  13.049054\n",
       "June           24.913992  13.440656\n",
       "July           33.143634  13.519651\n",
       "Aug            28.350650  13.261491\n",
       "Sep            27.868973  12.833021\n",
       "Oct            26.070541  11.716369\n",
       "Nov            22.213262  10.631936\n",
       "Dec            24.568548  10.245853"
      ]
     },
     "execution_count": 26,
     "metadata": {},
     "output_type": "execute_result"
    }
   ],
   "source": [
    "rides_per_ridelen=pd.pivot_table(df, values ='ride_len', index ='Month',\n",
    "                         columns =['member_casual'],aggfunc = 'mean').sort_values(by=['Month'])\n",
    "rides_per_ridelen"
   ]
  },
  {
   "attachments": {
    "864d92a0-eb5a-4357-b549-efccefa40c65.png": {
     "image/png": "[encoded data removed]"
    }
   },
   "cell_type": "markdown",
   "id": "2c8c4b70",
   "metadata": {
    "papermill": {
     "duration": 0.025179,
     "end_time": "2023-05-11T20:08:44.320877",
     "exception": false,
     "start_time": "2023-05-11T20:08:44.295698",
     "status": "completed"
    },
    "tags": []
   },
   "source": [
    "![image.png](attachment:864d92a0-eb5a-4357-b549-efccefa40c65.png)"
   ]
  },
  {
   "attachments": {
    "a1e4e43c-b05d-4706-be4e-162d27a0511c.png": {
     "image/png": "[encoded data removed]"
    }
   },
   "cell_type": "markdown",
   "id": "91a4a185",
   "metadata": {
    "papermill": {
     "duration": 0.025476,
     "end_time": "2023-05-11T20:08:44.372000",
     "exception": false,
     "start_time": "2023-05-11T20:08:44.346524",
     "status": "completed"
    },
    "tags": []
   },
   "source": [
    "5. **Visualize the data**\n",
    "\n",
    "Data visualization is the graphical representation of data. Dashboards are a collection of different views or visualization that showcase correlation in a complete holistic view and helps data storytelling to make better data driven decisions.\n",
    "\n",
    "![image.png](attachment:a1e4e43c-b05d-4706-be4e-162d27a0511c.png)\n",
    "\n",
    "A snippet of the interactive dashboard made on Tableau | Available on my [Tableau profile](https://public.tableau.com/app/profile/farah.siraj/viz/GoogleDataAnalyticsCaseStudy_BikeShare/Dashboard2)"
   ]
  },
  {
   "cell_type": "markdown",
   "id": "bb34ca4f",
   "metadata": {
    "papermill": {
     "duration": 0.025243,
     "end_time": "2023-05-11T20:08:44.422935",
     "exception": false,
     "start_time": "2023-05-11T20:08:44.397692",
     "status": "completed"
    },
    "tags": []
   },
   "source": [
    "**Observations**\n",
    "\n",
    "By observing the behavior and usage of Cyclistic services, we have following observations\n",
    "\n",
    "* Weightage of members usage is more than casual users\n",
    "* Trip duration of casual is more than members on each day, it shows that casual users use bikes for lesiure/exercise and fun while members use for work\n",
    "* Casual user utilization start from 8 AM and takes peak at 5 PM  then goes in decreasing trend but still high at 11 PM that shows casual use bikes weather starts and become pleasant while members peak observed at 7 AM and 5 PM and rising trend between the intervals thats shows member use them for work commute.\n",
    "* Casual users usage is more over weekend while members use more in weekdays \n",
    "* Both users take more trips during summer and spring seasons from May to oct when weather is pleasant while usage seems low in winter seasons.\n",
    "\n",
    "6. **Act - Solving the problem**\n",
    "**Recommendations**\n",
    "\n",
    "Moreno, the director, has assigned the task to the team to design the effective marketing strategy to increase members to gain in profit for the company. The team aimed to work on converting casual users to subscribe to membership.\n",
    "\n",
    "Based on observation derived from the data, following recommendation are proposed to fulfill the objective.\n",
    "\n",
    "* Make a plan to provide promotions to members during weekend trips.\n",
    "* Provide members priority access and discounted prices on rides on busy hours and non       busy hours.\n",
    "* Make membership cost much cheaper than the cost of 12 month service usage of casual       users.\n",
    "* Provide bonus, free rides, lucky draws for members on certain number of trips.\n",
    "* Provide bonus, free rides, lucky draws for members above certain duration of ride taken.\n",
    "* Provide promotions for members during summer months from May to oct to encorage casual     users to get membership.\n",
    "* Conduct the survey to get information from casual users regarding what features or         benefit they see while considering to subscribe to membership.\n",
    "\n"
   ]
  }
 ],
 "metadata": {
  "kernelspec": {
   "display_name": "Python 3",
   "language": "python",
   "name": "python3"
  },
  "language_info": {
   "codemirror_mode": {
    "name": "ipython",
    "version": 3
   },
   "file_extension": ".py",
   "mimetype": "text/x-python",
   "name": "python",
   "nbconvert_exporter": "python",
   "pygments_lexer": "ipython3",
   "version": "3.7.12"
  },
  "papermill": {
   "default_parameters": {},
   "duration": 621.917294,
   "end_time": "2023-05-11T20:08:46.780777",
   "environment_variables": {},
   "exception": null,
   "input_path": "__notebook__.ipynb",
   "output_path": "__notebook__.ipynb",
   "parameters": {},
   "start_time": "2023-05-11T19:58:24.863483",
   "version": "2.4.0"
  }
 },
 "nbformat": 4,
 "nbformat_minor": 5
}
